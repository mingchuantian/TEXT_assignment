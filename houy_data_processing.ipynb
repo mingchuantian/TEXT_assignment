{
  "nbformat": 4,
  "nbformat_minor": 0,
  "metadata": {
    "colab": {
      "name": "houy_data_processing.ipynb",
      "provenance": [],
      "collapsed_sections": [],
      "machine_shape": "hm",
      "authorship_tag": "ABX9TyNoWLEH5lUoXEJ0JgWuLODJ",
      "include_colab_link": true
    },
    "kernelspec": {
      "name": "python3",
      "display_name": "Python 3"
    },
    "language_info": {
      "name": "python"
    }
  },
  "cells": [
    {
      "cell_type": "markdown",
      "metadata": {
        "id": "view-in-github",
        "colab_type": "text"
      },
      "source": [
        "<a href=\"https://colab.research.google.com/github/skywalker00001/TEXT_assignment/blob/main/houy_data_processing.ipynb\" target=\"_parent\"><img src=\"https://colab.research.google.com/assets/colab-badge.svg\" alt=\"Open In Colab\"/></a>"
      ]
    },
    {
      "cell_type": "code",
      "metadata": {
        "colab": {
          "base_uri": "https://localhost:8080/"
        },
        "id": "0bqDVFl3KQE5",
        "outputId": "bf32b633-5435-4fb2-f0df-1d3587dfa5d8"
      },
      "source": [
        "from google.colab import drive\n",
        "drive.mount('/content/drive')\n",
        "root = 'drive/MyDrive/TEXT_assignment/'"
      ],
      "execution_count": 1,
      "outputs": [
        {
          "output_type": "stream",
          "name": "stdout",
          "text": [
            "Mounted at /content/drive\n"
          ]
        }
      ]
    },
    {
      "cell_type": "code",
      "metadata": {
        "id": "0KXv12j9SKvq"
      },
      "source": [
        "import json\n",
        "import random\n",
        "import string\n",
        "from collections import defaultdict\n",
        "from matplotlib import pyplot as plt \n",
        "\n",
        "SEED = 2\n",
        "random.seed(SEED)"
      ],
      "execution_count": 177,
      "outputs": []
    },
    {
      "cell_type": "code",
      "metadata": {
        "colab": {
          "base_uri": "https://localhost:8080/"
        },
        "id": "RxCKHF3MLt8q",
        "outputId": "12366159-f5d1-4183-c0a8-a3864d5768a1"
      },
      "source": [
        "# Install the required packages for this lab\n",
        "\n",
        "\n",
        "!pip install nltk\n",
        "import nltk\n",
        "nltk.download('punkt')\n",
        "from nltk.corpus import stopwords\n",
        "from nltk import word_tokenize\n",
        "nltk.download('stopwords')\n",
        "from nltk.tag import pos_tag"
      ],
      "execution_count": 43,
      "outputs": [
        {
          "output_type": "stream",
          "name": "stdout",
          "text": [
            "Requirement already satisfied: nltk in /usr/local/lib/python3.7/dist-packages (3.2.5)\n",
            "Requirement already satisfied: six in /usr/local/lib/python3.7/dist-packages (from nltk) (1.15.0)\n",
            "[nltk_data] Downloading package punkt to /root/nltk_data...\n",
            "[nltk_data]   Package punkt is already up-to-date!\n",
            "[nltk_data] Downloading package stopwords to /root/nltk_data...\n",
            "[nltk_data]   Unzipping corpora/stopwords.zip.\n"
          ]
        }
      ]
    },
    {
      "cell_type": "code",
      "metadata": {
        "id": "UoO0ROYbZ-G5"
      },
      "source": [
        ""
      ],
      "execution_count": null,
      "outputs": []
    },
    {
      "cell_type": "code",
      "metadata": {
        "id": "_jNxqUpIOZ4y"
      },
      "source": [
        "business_id = []\n",
        "\n",
        "with open(root + 'yelp_academic_dataset_business.json', encoding='utf-8') as f:\n",
        "    for line in f:\n",
        "        line_contents = json.loads(line)\n",
        "        business_id.append(line_contents['business_id'])\n",
        "        # business_id.append(line_contents)\n",
        "        # id = line_contents['business_id']\n",
        "        # print(id)\n",
        "    f.close()"
      ],
      "execution_count": 30,
      "outputs": []
    },
    {
      "cell_type": "code",
      "metadata": {
        "colab": {
          "base_uri": "https://localhost:8080/"
        },
        "id": "bkts2VdTRvUk",
        "outputId": "b8c88505-9e38-4802-842a-5c512894cc62"
      },
      "source": [
        "random.seed(SEED)\n",
        "b1 = random.randint(0, len(business_id))\n",
        "b1_id = business_id[b1]\n",
        "print(b1)\n",
        "print(b1_id)"
      ],
      "execution_count": 178,
      "outputs": [
        {
          "output_type": "stream",
          "name": "stdout",
          "text": [
            "14824\n",
            "PyWyXv_pe5Rx4NRROFMm4w\n"
          ]
        }
      ]
    },
    {
      "cell_type": "code",
      "metadata": {
        "id": "wp98UQTuQCi5"
      },
      "source": [
        "b1_reviews = []\n",
        "\n",
        "with open(root + 'yelp_academic_dataset_review.json', encoding='utf-8') as f:\n",
        "    for line in f:\n",
        "        line_contents = json.loads(line)\n",
        "        if (line_contents['business_id'] == b1_id):\n",
        "            b1_reviews.append(line_contents['text'])\n",
        "    f.close()"
      ],
      "execution_count": 179,
      "outputs": []
    },
    {
      "cell_type": "code",
      "metadata": {
        "colab": {
          "base_uri": "https://localhost:8080/"
        },
        "id": "Oa0cLne1QiAJ",
        "outputId": "efce109d-94c4-4eef-fbba-bd02488aae6e"
      },
      "source": [
        "print(len(b1_reviews))"
      ],
      "execution_count": 180,
      "outputs": [
        {
          "output_type": "stream",
          "name": "stdout",
          "text": [
            "34\n"
          ]
        }
      ]
    },
    {
      "cell_type": "code",
      "metadata": {
        "colab": {
          "base_uri": "https://localhost:8080/"
        },
        "id": "X8HPriLAQtsF",
        "outputId": "8817a3e7-55e0-4b29-b0fb-74b432466415"
      },
      "source": [
        "print(b1_reviews[0])"
      ],
      "execution_count": 181,
      "outputs": [
        {
          "output_type": "stream",
          "name": "stdout",
          "text": [
            "This place is great! Prices are very reasonable and the guys there are knowlegable and curious. They got the work done pretty fast and they even gave me a ride to my work when I dropped my truck off. I will definitely go here for cuter tire stuff.\n"
          ]
        }
      ]
    },
    {
      "cell_type": "code",
      "metadata": {
        "id": "Mt7n6Lhlep74"
      },
      "source": [
        "b1_tokens = []\n",
        "\n",
        "for review in b1_reviews:\n",
        "    tokens = word_tokenize(review)\n",
        "    b1_tokens.append(tokens)"
      ],
      "execution_count": 182,
      "outputs": []
    },
    {
      "cell_type": "code",
      "metadata": {
        "colab": {
          "base_uri": "https://localhost:8080/"
        },
        "id": "Tx5d1xMhb84i",
        "outputId": "d5f0d6c1-7f1a-43fa-847d-8132bba1221c"
      },
      "source": [
        "vocabulary = []\n",
        "for review in b1_tokens:\n",
        "    for token in review:\n",
        "        vocabulary.append(token.lower())\n",
        "\n",
        "print(len(vocabulary))\n",
        "vocabulary = set(vocabulary)\n",
        "print(len(vocabulary))"
      ],
      "execution_count": 183,
      "outputs": [
        {
          "output_type": "stream",
          "name": "stdout",
          "text": [
            "4678\n",
            "1041\n"
          ]
        }
      ]
    },
    {
      "cell_type": "code",
      "metadata": {
        "colab": {
          "base_uri": "https://localhost:8080/"
        },
        "id": "wsZFCrRCeFU1",
        "outputId": "c6d72914-5f20-46ea-a9ab-01846f344664"
      },
      "source": [
        "print(vocabulary)"
      ],
      "execution_count": 184,
      "outputs": [
        {
          "output_type": "stream",
          "name": "stdout",
          "text": [
            "{'going', 'shop', 'unnecessary', 'five', 'rest', 'around', 'blessed', 'include', 'things', 'comfortable', 'ones', 'off', 'in', 'pulled', 'glad', 'talk', 'passed', 'half', 'ranger', 'focused', 'worth', 'ball-joints', 'range', 'smalls', 'some', 'developed', 'same', 'house', 'owner', 'such', 'decided', 'area', 'return', 'match', 'assessed', 'here', 'looked', 'remove', 'too', 'plan', 'missed', 'gotten', 'canister', 'go', 'repair/replace', 'has', 'will', 'mentally', 'efficient', 'service', 'stranded', 'partial', 'full-size', 'boggling', 'independent', 'pump', 'less', 'cuter', 'away', 'mileage', 'swiftly', 'notice', 'rock', 'attached', 'office', 'city', 'overall', 'quickly', 'talking', 'overcharge', 'mounting', 'prepared', 'lot', 'sure', 'any', 'prices', 'mount', 'juan', 'schedule', 'discovered', 'my', 'ripped', 'where', 'saying', 'kept', ':', 'plug', 'technician', 'accommodating', 'said', 'scope', 'parking', 'one', 'skilled', 'throughout', 'else', 'times', 'because', 'young', 'codes', 'travel', 'expectations', 'thanks', 'able', 'three', 'several', 'good', 'solve', 'mines', 'crank', 'neck', 'least', 'played', 'didnt', 'fish', 'celebratory', 'punctures', 'dont', 'cheap', 'printed', 'something', 'performs', 'hotel', 'miles', 'longer', 'stick', 'oldsmobile', 'pot', 'axle', 'consideration', 'everyone', 'install', 'thanked', 'courtesy', 'labor', 'shops', 'them', 'move', 'want', 'triple', 'fixing', 'sent', 'further', 'every', 'filled', 'both', 'pulling', 'right', 'islands', 'asked', 'jeff', 'ball', 'process', 'dumbly', 'nothing', 'people', 'drive', 'beyond', 'maintained', 'nobody', 'ago', 'blockage', 'gas', 'took', 'needs', 'moved', 'shine', 'really', 'replacements', 'read', 'swindle', 'reasonable', 'options', 'left', 'but', 'although', 'belts', 'boot', 'they', 'walks', 'impact', 'needed', 'calling', 'charcoal', 'his', 'dealers', 'guess', 'tried', 'working', 'mean', 'admitting', 'afterwards', 'gentlemen', 'problem', 'owners', 'continue', 'nearly', 'answered', 'thus', '360', 'affordable', 'quoted', 'inconvenience', 'competent', 'does', 'selling', 'why', 'are', 'under', 'code', 'somewhere', 'oil', 'thankful', 'looking', 'little', 'lots', 'attach', 'myself', 'ride', 'ford', 'garys', 'trust', 'traffic', 'recheck', 'forester', 'thank', 'apologizing', 'dropped', 'have', 'thinking', 'guessed', \"'ve\", '8-18-2014', 'agreed', 'compartment', 'loose', 'get', 'deq', 'price', 'long', 'knowing', 'fill', 'kit', 'portland', 'error', 'average', 'reccomend', 'uber', '!', 'engine', 'about', 'find', 'cover', 'someone', 'shortly', 'absorber', 'explaining', 'additionally', '160', 'wondering', 'inner', 'suspected', 'try', '5', 'cars', 'rude', 'impressed', '24', 'cycle', 'kevin', 'checks', 'pushed', 'treated', 'super', 'despite', 'next', 'custom', 'detecting', 'free', 'out', 'work', 'lived', 'gone', 'runaround', 'two', 'replace', 'mistake', 'disadvantage', 'telling', 'hold', 'actual', 'seal', 'getting', 'point', 'you', 'lock', 'unsafely', 'charging', 'bless', 'elsewhere', 'dirt', 'nail', 'onto', 'vehicle', 'he', 'wonder', 'bracket', 'quarts', '-', 'nineties', 'amazed', 'after', 'regulars', 'constantly', 'coast', 's-so', 'is', 'above', 'pointed', '200', 'themselves', 'status', 'nice', 'god', 'that', 'well', 'ended', 'settle', 'cross', 'honesty', 'results', 'estimate', 'take', 'this', 'worked', 'nebulous', 'pleasure', 'system', 'diagnose', 'bigger', 'us', 'actually', 'finding', 'to', '2', 'rescuing', 'damaged', 'was', 'exactly', 'replacement', 'wire', 'it', 'appointment', 'trustworthy', 'ran', 'low-air-in-tire', 'damage', 'figure', 'also', 'gives', 'via', 'often', 'perform', 'girl', 'fry', 'registered', 'cost', 'tested', 'bell', 'below', 'can', 'skills', 'quality', 'hard', 'lug', 'recommend', 'belt', 'accurate', 'diligent', 'home', 'rims', 'heard', 'instructed', 'benefit', 'repairs', 'from', 'door', 'different', 'computer', 'company', 'care', 'sounds', 'anything', 'valve', 'think', '--', 'problems', 'forgetting', 'thoughtful', 'fantastic', 'vegan', 'dedicated', 'let', 'explain', 'discount', 'simply', 'knowlegable', 'joint', 'bring', 'fair', 'near', 'extremely', 'skeptical', 'level', 'terraincontact', 'issues', 'give', 'very', 'genuine', 'manager', 'almost', 'verify', 'solved', 'need', 'set', 'pattern', 'flying', 'interstate', 'place', 'seals', 'twice', 'details', 'job', 'recommended', 'well-being', 'properly', 'how', 'refund', 'far', 'fact', '100', 'choose', 'informed', 'moving', 'planned', 'year', 'approval', 'hardly', 'taking', 'filter', 'san', 'placed', 'doing', 'quotes', 'mysterious', 'deep', 'seem', 'during', 'big', 'original', 'solving', 'taco', 'even', 'earn', 'canada', 'though', 'lighting', 'close', 'which', 'not', 'including', 'praying', 'while', 'timing', 'hundreds', 'inside', ')', 'without', 'having', 'offered', 'trouble', \"'s\", 'me', 'morning', 'truly', 'rare', 'larger', 'local', 'charge', 'changed', 'j.r.', '06-10-2014', 'nuts', 'honest', 'quart', 'staff', 'life', 'freeway', 'deliver', 'called', 'just', 'ever', 'top', 'affected', 'would', 'friendliness', 'rough', 'noise', 'highly', 'again', 'positive', 'workings', 'selected', 'up-sold', 'front', 'knowledgeable', '&', 'told', 'naturally', 'swerve', 'documented', 'laying', 'rewire', 'later', 'helpful', 'rear', 'then', 'keep', 'wiper', 'troubles', 'flat', 'retrieved', 'stuff', 'old', 'alignment', 'time', 'enough', 'stopped', 'who', 'him', 'days', 'corner', 'extra', 'helped', 'pay', 'driver', 'guys', 'attempts', 'come', 'given', 'gaskets', 'went', 'use', 'recently', 'places', 'rely', 'crazy', 'instructions', 'simple', 'shuttles', 'provided', 'bad', 'no', 'toyota', 'following', 'second', 'dan', 'wanted', 'night', 'expecting', 'easy', 'son', 'wish', 'couple', 'throw', 'rim', 'years', 'crossed', 'electrical', 'came', 'stammered', 'learned', 'mechanics', 'vehicles', 'environment', \"'97\", 'retighted', 'extras', 'love', 'by', 'everything', 'bit', 'ask', 'attempt', 'quick', 'rotation', 'since', 'blade', 'ready', 'a', 'described', 'prepurchased', 'communication', 'never', 'stay', 'we', 'balanced', 'estimates', 'qts', 'loosened', 'liked', 'be', 'reservation', 'referred', 'the', 'connecting', 'tech', 'definitely', 'still', 'tighten', 'than', 'suddenly', 'correct', 'tell', 'experience', 'better', 'end', 'awful', 'fluid', 'make', 'many', 'concern', 'speedy', 'jeep', 'feel', 'evap', 'high', 'mounted', 'dip', 'back', 'fuel', 'ideas/needs/concerns', 'ordered', 'main', 'doubt', 'before', 'know', 'those', 'oh', 'schwab', 'understand', 'especially', 'once', \"''\", 'leaking', 'tells', 'upon', 'sloppy', 'best', 'excellent', 'could', 'colors', 'lower', 'completes', 'customer', 'like', 'short', 'keys', 'exceptional', 'filler', 'pts', 'auto', 'brand', 'ok', 'complete', 'fix', 'bought', 'im', 'yes', 'threaded', 'refusal', 'apart', 'am', 'datsun', 'only', 'procedure', 'squeaking', 'fan', '15', 'info', 'friend', 'into', 'either', 'pretend', 'repaired', 'expected', 'showed', 'spot', 'replacing', 'if', 'hose', 'ive', 'your', 'mid', \"'re\", 'great', 'put', 'happily', 'bolts', 'dash', '0', 'instead', 'automotive', 'running', 'updated', 'emissions', 'employment', 'plenty', 'bolt', 'parts', 'genuinely', 'wrong', 'diagnosed', 'fortunately', 'thingy', 'ransom', 'update', 'did', 'feeling', 'when', 'trying', 'through', 'evaporation', 'specifically', 'purge', 'admit', 'spare', 'qt', 'awesome', 'wife', 'wheel', 'mind', 'closest', 'part', 'noticed', '@', 'workers', 'quite', 'forgot', 'soaked', 'low', 'drove', 'guarantee', 'curious', 'conclusion', 'an', 'upgrade', 'missing', 'their', 'putting', 'verbalizing', 'squeak', 'tests', 'professionals', 'fraud', '$', 'vale', 'appreciated', 'team', 'diagnosing', 'project', '(', 'off-ramp', 'woman', 'other', 'amazing', 'lobby', '?', 'pt', 'installed', 'these', 'stood', 'camry', 'industrial', 'go-ahead', 'knew', 'for', 'reassured', 'lift', 'continued', 'hours', 'fixed', 'fine', 'cool', '350', 'felt', 'seems', 'reviewer', 'pretty', ';', '20', \"n't\", 'bill', 'knows', 'and', 'first', 'shuttle', 'runs', 'car', 'recommending', 'day', 'drop', 'issue', 'minutes', '``', 'professional', 'same-day', 'management', 'wifi', 'friendly', 'fingers', 'j.r', 'cruise', 'squealing', 'gave', 'reluctant', 'or', 'hanging', 'truck', 'tongue', 'pleasant', 'state', 'see', 'frame', 'change', 'finds', 'so', 'caring', 'research', 'subaru', 'few', 'spending', 'outback', 'smaller', 'reader', 'what', 'fast', 'hundred', 'i', 'do', 'beat', 'live', 'picked', 'expensive', 'bringing', 'may', 'at', 'expediently', 'seen', 'sensor', 'les', 'friday', 'honda', 'hesitation', 'help', 'hole', 'reliable', 'plus', 'brought', 'noon', 'check', 'with', '.jake', 'strange', '6', 'hood', 'review', 'services', 'mechanical', 'woke', 'older', 'verbalized', 'might', 'taxi', '.', 'found', 'financial', 'washington', 'whole', 'requested', 'somehow', 'guy', 'of', 'being', 'qualified', 'been', 'refused', 'satisfactory', 'goes', 'female', 'resolve', 'future', 'costly', 'regarding', 'inspected', 'waiting', '...', 'compared', 'questions', 'its', 'had', 'handed', 'temperature', 'defended', 'studs', 'until', 'experiences', 'control', 'afterward', 'harness', 'got', '10', 'there', 'friends', ',', 'points', 'walked', 'town', 'admitted', 'shock', 'completed', 'up', 'business', 'rebuild', 'deal', 'more', 'besides', 'always', 'much', 'pressured', 'previous', 'taken', 'warehouse', 'rotating', 'look', 'saw', 'last', 'thing', 'incredibly', 'disappointment', 'safety', 'all', 'vapor', 'obvious', 'book', 'omega', 'nervous', 'now', 'tire', 'sell', 'repair', 'transmission', 'tires', 'theyll', '1', '1979', 'kind', 'software', 'crew', 'as', 'light', 'say', 'previously', 'menagerie', 'unfortunately', 'driving', 'another', 'week', 'truth', 'shall', 'done', 'making', 'should', 'mouse', 'cares', 'continental', 'recommendations', 'finally', 'customers', 'urgent', 'swear', 'way', 'seeing', 'turnaround', 'pure', 'lane', 'reading', 'insignificant', 'wheels', 'were', 'delivery', 'makes', \"'d\", 'firmware', 'on', 'down', 'dialed', 'nicest', 'excavated', 'cross-threaded', 'soon', 'crack', 'spend', 'lesson', 'prayers', 'gary', 'our', 'asking', 'ca', '4', 'over', 'sister', 'dealer', 'pick', 'mechanic', 'joints', 'thought', 'hesitate', 'appreciate', 's', 'months', 'rudely', 'zero', 'within', \"'m\", 'money', 'call', 'outside', 'new', 'immediately', 'side'}\n"
          ]
        }
      ]
    },
    {
      "cell_type": "code",
      "metadata": {
        "colab": {
          "base_uri": "https://localhost:8080/"
        },
        "id": "1ALyaNPfdQch",
        "outputId": "fdc8895d-6d1b-4784-ad64-e03c7f0f538c"
      },
      "source": [
        "word_freq = defaultdict(int)\n",
        "for review in b1_tokens:\n",
        "    for token in review:\n",
        "        word_freq[token.lower()] += 1\n",
        "print(len(word_freq))\n",
        "print(word_freq)"
      ],
      "execution_count": 185,
      "outputs": [
        {
          "output_type": "stream",
          "name": "stdout",
          "text": [
            "1041\n",
            "defaultdict(<class 'int'>, {'this': 18, 'place': 8, 'is': 29, 'great': 6, '!': 43, 'prices': 4, 'are': 11, 'very': 15, 'reasonable': 3, 'and': 162, 'the': 171, 'guys': 11, 'there': 4, 'knowlegable': 1, 'curious': 1, '.': 195, 'they': 66, 'got': 5, 'work': 17, 'done': 9, 'pretty': 1, 'fast': 6, 'even': 14, 'gave': 7, 'me': 50, 'a': 118, 'ride': 5, 'to': 154, 'my': 61, 'when': 12, 'i': 141, 'dropped': 3, 'truck': 1, 'off': 11, 'will': 8, 'definitely': 3, 'go': 12, 'here': 6, 'for': 41, 'cuter': 1, 'tire': 8, 'stuff': 2, 'was': 56, 'impressed': 2, 'with': 31, 'gary': 46, \"'s\": 50, ',': 122, 'am': 5, 'naturally': 1, 'skeptical': 1, 'of': 62, 'mechanics': 8, 'car': 44, 'has': 6, 'been': 7, 'looked': 1, 'at': 16, 'by': 5, 'menagerie': 1, 'all': 13, 'over': 6, 'ca': 4, 'or': 9, 'including': 2, 'no': 8, 'less': 7, 'than': 9, 'five': 2, 'different': 2, 'ford': 4, 'dealers': 1, 'several': 5, 'smalls': 1, 'shops': 4, 'had': 33, 'check': 10, 'engine': 22, 'light': 8, 'on': 49, 'year': 3, 'it': 44, 'an': 20, 'evaporation': 1, 'emissions': 1, 'control': 1, 'either': 1, 'charcoal': 2, 'canister': 3, 'soaked': 1, 'gas': 1, 'longer': 2, 'doing': 2, 'its': 3, 'job': 7, 'purge': 3, 'valve': 10, 'bigger': 1, 'fish': 1, 'fry': 1, 'came': 6, 'shortly': 1, 'after': 11, 'registered': 1, 'vehicle': 7, 'but': 14, 'did': 19, 'lot': 3, 'research': 1, 'took': 13, 'dealer': 3, 'about': 15, '6': 2, 'months': 2, 'ago': 4, 'swear': 1, 'up': 18, 'down': 4, 'that': 24, 'issue': 6, 'without': 8, 'doubt': 3, 'said': 8, 'tested': 1, 'worked': 5, 'hundreds': 1, 'these': 10, 'things': 6, 'before': 6, 'were': 13, 'ready': 2, 'charge': 10, 'triple': 1, 'price': 6, 'part': 6, 'install': 2, 'easy': 3, 'so': 14, 'told': 4, 'them': 14, '``': 11, 'thanks': 5, \"''\": 11, 'ordered': 3, 'myself': 3, 'showed': 2, 'damaged': 2, 'moving': 1, 'out': 15, 'week': 3, 'put': 3, 'project': 1, 'hold': 2, 'well': 4, 'little': 6, 'too': 3, 'long': 4, 'suddenly': 1, 'needed': 6, 'get': 10, 'problem': 6, 'solved': 1, 'additionally': 1, 'front': 3, 'end': 3, 'squeaking': 2, 'since': 4, 'day': 5, '1': 2, \"'ve\": 5, 'always': 9, 'suspected': 1, 'ball-joints': 1, 'have': 21, 'every': 2, 'shop': 16, 'goes': 2, 'tells': 1, 'same': 1, 'thing': 2, 'ball': 3, 'joints': 2, 'fine': 2, 'sent': 1, 'in': 47, 'some': 6, 'nebulous': 1, 'instructions': 1, 'bit': 2, 'back': 25, 'just': 11, 'few': 5, 'hours': 5, 'sure': 5, 'enough': 4, 'one': 12, 'lower': 2, 'safety': 2, 'concern': 2, 'tongue': 1, \"n't\": 22, 'say': 5, 'anything': 5, 'their': 12, 'vapor': 1, '-': 4, 'go-ahead': 1, 'do': 23, '(': 24, 'expensive': 1, 'joint': 1, 'service': 14, 'dirt': 1, 'cheap': 1, ')': 25, 'noon': 2, 'mind': 1, 'boggling': 1, 'truth': 1, 'which': 9, 'we': 11, 'would': 10, 'know': 8, 'if': 12, 'come': 3, 'not': 12, 'until': 2, 'drive': 2, 'cycle': 1, 'completes': 1, 'knew': 2, 'never': 7, 'tell': 1, 'you': 15, 'crossed': 1, 'fingers': 1, 'deq': 1, 'following': 1, 'passed': 1, 'flying': 1, 'colors': 1, 'evap': 1, 'completed': 1, 'fixed': 1, 'plus': 2, 'squeak': 1, 'gone': 1, 'nervous': 1, 'nobody': 1, 'could': 5, 'nail': 1, 'those': 4, 'problems': 7, 'dialed': 1, '24': 1, 'pleasure': 1, 'kind': 4, 'thank': 4, 'dan': 6, 'jeff': 11, 'whole': 2, 'team': 4, 'auto': 25, 'care': 18, 'fixing': 1, 'first': 8, 'saw': 1, 'pulled': 1, 'parking': 2, 'walked': 2, 'ask': 2, 'getting': 4, 'inspected': 1, 'within': 2, 'minutes': 2, 'tech': 2, 'walks': 2, 'runs': 1, 'checks': 1, 'codes': 1, 'technician': 2, 'performs': 1, 'tests': 1, 'under': 1, 'hood': 1, 'then': 10, 'office': 1, 'what': 12, 'going': 4, 'short': 2, 'time': 8, 'estimate': 2, 'review': 1, 'approval': 1, 'explain': 2, 'details': 1, 'procedure': 1, 'resolve': 1, 'frame': 1, 'offered': 2, 'give': 2, 'home': 5, 'though': 2, 'lived': 1, 'other': 4, 'side': 1, 'town': 2, 'reassured': 1, 'everything': 1, 'be': 18, 'expediently': 1, 'he': 10, 'called': 7, 'couple': 4, 'let': 2, 'pick': 4, 'deliver': 2, 'ever': 3, 'need': 3, 'exceptional': 1, 'runaround': 1, 'genuine': 1, 'trustworthy': 2, 'makes': 2, 'business': 7, 'shine': 1, 'honest': 5, 'nice': 1, 'reccomend': 1, 'knowledgeable': 2, 'best': 3, '...': 3, '.jake': 1, 'repaired': 2, 'oldsmobile': 1, 'omega': 1, 'afterward': 1, 'asked': 3, 'questions': 2, 'answered': 2, 'hesitation': 1, 'feeling': 1, 'ripped': 2, 'shall': 1, 'return': 2, 'wife': 1, 'j.r.': 2, 'friendly': 6, 'professional': 4, 'quoted': 4, 'right': 8, 'away': 2, 'wanted': 1, 'throughout': 2, 'keep': 1, 'updated': 1, 'recommended': 2, 'repairs': 4, 'cost': 6, 'thought': 4, 'pushed': 3, 'into': 6, 'having': 3, 'unnecessary': 4, 'appreciated': 3, 'parts': 5, 'labor': 3, 'fair': 4, 'amazing': 1, 'recommend': 4, 'taking': 5, 'old': 2, 'subaru': 2, 'repair': 12, 'needs': 5, 'experience': 3, 'kevin': 1, '&': 4, 'crew': 2, 'picked': 3, 'jeep': 2, 'from': 13, 'oil': 4, 'changed': 1, 'friday': 1, 'ive': 2, 'gotten': 1, 'better': 4, 'any': 5, 'life': 1, 'garys': 2, 'seems': 2, 'beyond': 3, 'expectations': 1, 'as': 11, 'far': 1, 'quality': 3, 'use': 1, 'top': 2, 'skilled': 1, 'seem': 1, 'able': 6, 'rewire': 1, 'harness': 2, 'mouse': 1, 'decided': 1, 'simple': 2, 'change': 4, 'tires': 7, 'rebuild': 1, 'lift': 1, 'kit': 1, 'range': 1, 'skills': 1, 'vehicles': 1, 'see': 3, 'moved': 1, 'years': 2, 'went': 5, 'local': 2, 'thinking': 1, 'constantly': 1, 'up-sold': 1, 'didnt': 1, 'referred': 1, 'many': 1, 'friends': 1, 'now': 2, 'regulars': 1, 'like': 8, ':': 5, 'oh': 1, 'nicest': 1, '2': 6, 'courtesy': 2, 'shuttles': 1, 'call': 4, 'morning': 3, 'im': 2, 'awesome': 2, 'custom': 2, 'everyone': 3, 'played': 1, 'finding': 1, 'original': 3, 'driver': 1, 'another': 5, 'warehouse': 1, 'spot': 1, 'compared': 1, 'les': 1, 'schwab': 1, '10': 1, 'times': 2, 'super': 1, 'helpful': 5, 'also': 6, 'seen': 1, 'choose': 1, 'somewhere': 1, 'else': 2, 'match': 1, 'zero': 1, 'bad': 2, 'highly': 2, \"'m\": 2, 'fan': 1, 'really': 4, 'cars': 4, 'feel': 5, 'way': 3, 'understand': 1, \"'re\": 6, 'industrial': 1, 'area': 2, 'find': 5, 'despite': 2, 'manager': 3, 'vegan': 2, 'gives': 1, 'extra': 2, 'cool': 3, 'points': 1, 'book': 1, 'continued': 1, 'earn': 1, 'friendliness': 1, 'customer': 4, 'bought': 1, 'half': 2, 'taken': 2, 'punctures': 1, 'recently': 1, 'replace': 7, 'rim': 3, 'developed': 1, 'crack': 1, 'mounted': 1, 'balanced': 1, 'installed': 3, 'above': 1, 'staff': 2, 'accommodating': 2, 'especially': 1, 'hesitate': 1, 'rock': 2, 'live': 2, 'san': 1, 'juan': 1, 'islands': 1, 'coast': 1, 'washington': 2, 'near': 1, 'canada': 1, 'driving': 2, 'through': 3, 'portland': 2, 'interstate': 1, '5': 1, 'plenty': 3, 'traffic': 1, 'ran': 2, 'pot': 1, 'hole': 1, 'lane': 1, 'notice': 2, 'swerve': 1, 'deep': 1, 'soon': 1, 'heard': 1, 'awful': 1, 'noise': 1, 'low-air-in-tire': 1, 'drove': 4, 'while': 3, 'further': 1, 'off-ramp': 1, 'freeway': 1, 'praying': 1, 'strange': 2, 'city': 2, 'assessed': 1, 'damage': 1, 'two': 3, 'rims': 1, 'spare': 2, 'immediately': 2, 'new': 6, 'next': 6, 'delivery': 1, 'hotel': 3, 'selected': 1, 'make': 4, 'reservation': 1, 'spend': 3, 'night': 1, 'brought': 6, 'once': 2, 'try': 3, 'sell': 3, 'something': 2, 'workers': 1, 'thoughtful': 1, 'efficient': 1, 'thankful': 1, 'extras': 1, 'felt': 6, 'blessed': 1, 'prayers': 1, 'help': 5, 'deal': 1, 'someone': 4, 'trying': 3, 'lots': 1, '--': 1, 'besides': 1, 'provided': 2, 'taxi': 1, '?': 6, 'amazed': 1, 'how': 5, 'expecting': 1, 'much': 7, 'larger': 1, 'bill': 1, ';': 2, 'god': 1, 'bless': 1, 'our': 12, 'diagnosed': 1, 'quickly': 1, 'house': 1, 'expected': 1, 'fantastic': 1, 'affordable': 1, 'people': 1, 'brand': 1, 'alignment': 2, 'given': 1, 'options': 1, 'pressured': 2, 'spending': 1, 'more': 8, 'informed': 1, 'truly': 1, 'bringing': 1, 'pretend': 1, 'mysterious': 1, 'inner': 1, 'workings': 1, 'fact': 1, 'knows': 1, 'being': 2, 'complete': 1, 'disappointment': 1, 'should': 1, 'upon': 3, 'automotive': 2, 'thus': 1, 'woke': 1, 'flat': 2, 'set': 1, 'same-day': 2, 'appointment': 3, 'waiting': 2, '15': 1, 'lobby': 1, 'handed': 1, 'keys': 2, 'good': 3, 'does': 3, 'mean': 1, 'stood': 1, 'dumbly': 1, 'stammered': 1, 's-so': 1, 'pay': 4, 'mentally': 1, 'prepared': 1, 'drop': 2, 'hundred': 2, 'replacement': 1, 'nothing': 3, 'think': 3, 'thanked': 1, 'happily': 1, 'celebratory': 1, 'taco': 1, 'bell': 1, 'almost': 1, 'wish': 1, 'least': 1, 'can': 8, 'rest': 1, 'knowing': 2, 'wrong': 3, 'around': 3, 'corner': 1, 'gentlemen': 1, 'stranded': 1, 'friend': 1, 'mines': 1, 'state': 2, 'move': 1, 'mechanic': 9, 'rescuing': 1, 'working': 2, 'filled': 2, 'transmission': 6, 'fluid': 6, 'left': 3, 'mount': 1, 'bolt': 9, 'loose': 2, 'forgot': 1, 'attach': 2, 'timing': 5, 'belt': 4, 'fortunately': 3, 'found': 2, 'laying': 3, 'compartment': 2, 'professionals': 5, 'take': 2, 'your': 1, 'money': 3, 'elsewhere': 2, 'quarts': 2, 'prepurchased': 1, 'telling': 1, 'quart': 2, 'low': 2, 'somehow': 1, 'ended': 2, 'putting': 1, 'both': 3, 'ok': 2, 'twice': 2, 'admitting': 1, 'mistake': 2, 'trouble': 3, 'reading': 1, 'dip': 1, 'stick': 1, 'why': 3, 'average': 1, 'owner': 3, 'themselves': 1, 'fix': 3, 'rare': 2, 'finds': 1, 'hard': 1, 'worth': 1, 'because': 7, 'throw': 1, 'agreed': 1, 'planned': 1, 'j.r': 1, 'stay': 1, 'actually': 1, 'still': 2, '1979': 2, 'datsun': 2, 'leaking': 1, 'look': 1, '350': 2, '$': 13, 'main': 2, 'seal': 2, 'fraud': 1, 'pure': 1, 'during': 1, 'troubles': 1, 'unfortunately': 1, 'bring': 2, 'second': 1, 'appreciate': 1, 'honesty': 1, 'reliable': 2, 'accurate': 1, 'estimates': 2, 'quite': 1, 'often': 2, 'perform': 2, 'include': 1, 'gaskets': 1, 'axle': 1, 'replacements': 1, 'outback': 1, 'dedicated': 1, \"'d\": 1, 'shuttle': 3, 'big': 1, 'yes': 1, 'partial': 1, 'honda': 1, 'door': 4, 'lock': 2, '360': 1, '160': 1, 'apart': 2, 'blockage': 1, '06-10-2014': 1, \"'97\": 1, 'toyota': 1, 'camry': 1, '4': 3, 'issues': 1, 'vale': 1, 'seals': 1, 'tighten': 1, 'squealing': 1, 'belts': 1, 'repair/replace': 1, 'fuel': 4, 'filter': 1, 'cross': 1, 'threaded': 1, 'remove': 1, 'qt': 3, 'temperature': 1, 'fill': 3, 'properly': 3, 'qts': 1, 'days': 4, 'noticed': 4, 'high': 2, 'who': 4, 'admitted': 1, 'seeing': 1, 'level': 1, 'excavated': 1, 'him': 1, 'benefit': 1, '8-18-2014': 1, 'connecting': 3, 'mounting': 1, 'bracket': 1, 'later': 3, 'smaller': 1, 'cover': 4, 'missing': 1, 'calling': 1, 'defended': 1, 'his': 4, 'saying': 2, 'pointed': 1, 'wire': 1, 'running': 4, 'attached': 2, 'via': 1, 'guessed': 1, 'shock': 2, 'absorber': 2, 'thingy': 2, 'retighted': 1, 'loosened': 1, 'plug': 1, 'conclusion': 1, 'may': 3, 'trust': 1, 'management': 1, 'recheck': 1, 'guarantee': 1, 'point': 1, 'forgetting': 1, 'although': 1, 'insignificant': 1, 'sloppy': 4, 'inside': 2, 'sister': 1, 'theyll': 2, 'quick': 2, 'rely': 1, 'dont': 2, 'talk': 2, 'swindle': 1, 'young': 1, 'woman': 1, 'beat': 1, 'plan': 2, 'making': 1, 'pt': 1, 'cruise': 1, 'rough': 1, '100': 2, 'read': 2, 'computer': 5, 'code': 4, 'crank': 2, 'sensor': 2, 'error': 1, 'documented': 1, 'pts': 2, 'wondering': 2, '20': 1, 'reader': 1, 'dash': 1, '0': 1, 'nearly': 2, 'status': 1, 'son': 6, '@': 6, 'refused': 1, 'attempt': 1, 'charging': 2, '200': 2, 'firmware': 2, 'upgrade': 3, 'verify': 1, 'correct': 1, 'instructed': 1, 'retrieved': 1, 'treated': 2, 'rudely': 1, 'guess': 1, 'ransom': 1, 'overcharge': 3, 'attempts': 1, 'settle': 1, 'results': 1, 'hanging': 1, 'independent': 1, 'hardly': 1, 'tried': 2, 'software': 1, 'update': 1, 'reviewer': 1, 'below': 1, 'previously': 1, 'obvious': 1, 'mechanical': 1, 'described': 1, 'detecting': 1, 'pattern': 1, 'again': 2, 'pulling': 1, 'speedy': 1, 'satisfactory': 1, 'costly': 1, 'lesson': 1, 'learned': 1, 'extremely': 1, 'rude': 1, 'missed': 1, 'replacing': 1, 'bolts': 2, 'onto': 1, 'miles': 1, 'simply': 2, 'placed': 1, 'qualified': 1, 'diligent': 1, 'competent': 2, 'talking': 1, 'owners': 1, 'reluctant': 1, 'company': 1, 'refusal': 1, 'admit': 1, 'such': 2, 'explaining': 2, 'exactly': 1, 'want': 4, 'outside': 1, 'only': 1, 'wonder': 1, 'kept': 2, 'positive': 1, 'experiences': 1, 'schedule': 1, 'us': 6, 'maintained': 1, 'excellent': 1, 'communication': 1, 'process': 1, 'older': 1, 'mileage': 1, 'recommending': 1, 'scope': 1, 'diagnosing': 1, 'electrical': 1, 'turnaround': 2, 'glad': 1, 'future': 1, 'continental': 1, 'terraincontact': 1, 'forester': 1, 'last': 1, 'free': 5, 'rotation': 2, 'rotating': 1, 'full-size': 1, 'wheel': 1, 'incredibly': 2, 'caring': 1, 'discovered': 2, 'wheels': 1, 'unsafely': 1, 'three': 1, 'lug': 1, 'nuts': 2, 'cross-threaded': 1, 'verbalized': 1, 'well-being': 1, 'helped': 3, 'consideration': 1, 'travel': 1, 'requested': 1, 'swiftly': 1, 'affected': 1, 'studs': 1, 'printed': 1, 'info': 1, 'closest': 1, 'where': 2, 'continue': 1, 'rear': 1, 'wiper': 1, 'blade': 1, 'apologizing': 1, 'inconvenience': 1, 'liked': 1, 'comfortable': 2, 'wifi': 1, 'employment': 1, 'female': 1, 's': 1, 'environment': 1, 'asking': 1, 'verbalizing': 1, 'ideas/needs/concerns': 1, 'looking': 2, 'quotes': 1, 'regarding': 1, 'girl': 1, 'disadvantage': 1, 'places': 1, 'lighting': 1, 'finally': 1, 'figure': 1, 'discount': 1, 'close': 1, 'uber': 1, 'overall': 1, 'pleasant': 1, 'crazy': 1, 'sounds': 1, 'love': 1, 'guy': 1, 'genuinely': 1, 'cares': 1, 'customers': 1, 'afterwards': 1, 'recommendations': 1, 'services': 1, 'urgent': 1, 'ones': 1, 'financial': 1, 'impact': 1, 'might': 1, 'mid': 1, 'nineties': 1, 'ranger': 1, 'system': 1, 'pump': 2, 'filler': 1, 'neck': 1, 'hose': 1, 'stopped': 1, 'diagnose': 1, 'solve': 1, 'previous': 1, 'refund': 1, 'specifically': 1, 'focused': 1, 'solving': 1, 'actual': 1, 'instead': 1, 'selling': 1, 'boot': 1})\n"
          ]
        }
      ]
    },
    {
      "cell_type": "code",
      "metadata": {
        "colab": {
          "base_uri": "https://localhost:8080/"
        },
        "id": "dC1yw5dOg0K8",
        "outputId": "be68e248-6959-4406-baf9-7818d239408b"
      },
      "source": [
        "ordered_freq = sorted(word_freq.items(), key = lambda x: x[1], reverse=True)\n",
        "print(ordered_freq)"
      ],
      "execution_count": 186,
      "outputs": [
        {
          "output_type": "stream",
          "name": "stdout",
          "text": [
            "[('.', 195), ('the', 171), ('and', 162), ('to', 154), ('i', 141), (',', 122), ('a', 118), ('they', 66), ('of', 62), ('my', 61), ('was', 56), ('me', 50), (\"'s\", 50), ('on', 49), ('in', 47), ('gary', 46), ('car', 44), ('it', 44), ('!', 43), ('for', 41), ('had', 33), ('with', 31), ('is', 29), ('back', 25), (')', 25), ('auto', 25), ('that', 24), ('(', 24), ('do', 23), ('engine', 22), (\"n't\", 22), ('have', 21), ('an', 20), ('did', 19), ('this', 18), ('up', 18), ('care', 18), ('be', 18), ('work', 17), ('at', 16), ('shop', 16), ('very', 15), ('about', 15), ('out', 15), ('you', 15), ('even', 14), ('but', 14), ('so', 14), ('them', 14), ('service', 14), ('all', 13), ('took', 13), ('were', 13), ('from', 13), ('$', 13), ('when', 12), ('go', 12), ('one', 12), ('their', 12), ('if', 12), ('not', 12), ('what', 12), ('repair', 12), ('our', 12), ('are', 11), ('guys', 11), ('off', 11), ('after', 11), ('``', 11), (\"''\", 11), ('just', 11), ('we', 11), ('jeff', 11), ('as', 11), ('check', 10), ('valve', 10), ('these', 10), ('charge', 10), ('get', 10), ('would', 10), ('then', 10), ('he', 10), ('done', 9), ('or', 9), ('than', 9), ('always', 9), ('which', 9), ('mechanic', 9), ('bolt', 9), ('place', 8), ('will', 8), ('tire', 8), ('mechanics', 8), ('no', 8), ('light', 8), ('without', 8), ('said', 8), ('know', 8), ('first', 8), ('time', 8), ('right', 8), ('like', 8), ('more', 8), ('can', 8), ('gave', 7), ('been', 7), ('less', 7), ('job', 7), ('vehicle', 7), ('never', 7), ('problems', 7), ('called', 7), ('business', 7), ('tires', 7), ('replace', 7), ('much', 7), ('because', 7), ('great', 6), ('fast', 6), ('here', 6), ('has', 6), ('over', 6), ('came', 6), ('issue', 6), ('things', 6), ('before', 6), ('price', 6), ('part', 6), ('little', 6), ('needed', 6), ('problem', 6), ('some', 6), ('dan', 6), ('friendly', 6), ('cost', 6), ('into', 6), ('able', 6), ('2', 6), ('also', 6), (\"'re\", 6), ('new', 6), ('next', 6), ('brought', 6), ('felt', 6), ('?', 6), ('transmission', 6), ('fluid', 6), ('son', 6), ('@', 6), ('us', 6), ('got', 5), ('ride', 5), ('am', 5), ('by', 5), ('several', 5), ('worked', 5), ('thanks', 5), ('day', 5), (\"'ve\", 5), ('few', 5), ('hours', 5), ('sure', 5), ('say', 5), ('anything', 5), ('could', 5), ('home', 5), ('honest', 5), ('parts', 5), ('taking', 5), ('needs', 5), ('any', 5), ('went', 5), (':', 5), ('another', 5), ('helpful', 5), ('feel', 5), ('find', 5), ('help', 5), ('how', 5), ('timing', 5), ('professionals', 5), ('computer', 5), ('free', 5), ('prices', 4), ('there', 4), ('ca', 4), ('ford', 4), ('shops', 4), ('ago', 4), ('down', 4), ('told', 4), ('well', 4), ('long', 4), ('since', 4), ('enough', 4), ('-', 4), ('those', 4), ('kind', 4), ('thank', 4), ('team', 4), ('getting', 4), ('going', 4), ('other', 4), ('couple', 4), ('pick', 4), ('professional', 4), ('quoted', 4), ('repairs', 4), ('thought', 4), ('unnecessary', 4), ('fair', 4), ('recommend', 4), ('&', 4), ('oil', 4), ('better', 4), ('change', 4), ('call', 4), ('really', 4), ('cars', 4), ('customer', 4), ('drove', 4), ('make', 4), ('someone', 4), ('pay', 4), ('belt', 4), ('door', 4), ('fuel', 4), ('days', 4), ('noticed', 4), ('who', 4), ('cover', 4), ('his', 4), ('running', 4), ('sloppy', 4), ('code', 4), ('want', 4), ('reasonable', 3), ('dropped', 3), ('definitely', 3), ('year', 3), ('canister', 3), ('its', 3), ('purge', 3), ('lot', 3), ('dealer', 3), ('doubt', 3), ('easy', 3), ('ordered', 3), ('myself', 3), ('week', 3), ('put', 3), ('too', 3), ('front', 3), ('end', 3), ('ball', 3), ('come', 3), ('ever', 3), ('need', 3), ('best', 3), ('...', 3), ('asked', 3), ('pushed', 3), ('having', 3), ('appreciated', 3), ('labor', 3), ('experience', 3), ('picked', 3), ('beyond', 3), ('quality', 3), ('see', 3), ('morning', 3), ('everyone', 3), ('original', 3), ('way', 3), ('manager', 3), ('cool', 3), ('rim', 3), ('installed', 3), ('through', 3), ('plenty', 3), ('while', 3), ('two', 3), ('hotel', 3), ('spend', 3), ('try', 3), ('sell', 3), ('trying', 3), ('upon', 3), ('appointment', 3), ('good', 3), ('does', 3), ('nothing', 3), ('think', 3), ('wrong', 3), ('around', 3), ('left', 3), ('fortunately', 3), ('laying', 3), ('money', 3), ('both', 3), ('trouble', 3), ('why', 3), ('owner', 3), ('fix', 3), ('shuttle', 3), ('4', 3), ('qt', 3), ('fill', 3), ('properly', 3), ('connecting', 3), ('later', 3), ('may', 3), ('upgrade', 3), ('overcharge', 3), ('helped', 3), ('stuff', 2), ('impressed', 2), ('including', 2), ('five', 2), ('different', 2), ('charcoal', 2), ('longer', 2), ('doing', 2), ('6', 2), ('months', 2), ('ready', 2), ('install', 2), ('showed', 2), ('damaged', 2), ('hold', 2), ('squeaking', 2), ('1', 2), ('every', 2), ('goes', 2), ('thing', 2), ('joints', 2), ('fine', 2), ('bit', 2), ('lower', 2), ('safety', 2), ('concern', 2), ('noon', 2), ('until', 2), ('drive', 2), ('knew', 2), ('plus', 2), ('whole', 2), ('parking', 2), ('walked', 2), ('ask', 2), ('within', 2), ('minutes', 2), ('tech', 2), ('walks', 2), ('technician', 2), ('short', 2), ('estimate', 2), ('explain', 2), ('offered', 2), ('give', 2), ('though', 2), ('town', 2), ('let', 2), ('deliver', 2), ('trustworthy', 2), ('makes', 2), ('knowledgeable', 2), ('repaired', 2), ('questions', 2), ('answered', 2), ('ripped', 2), ('return', 2), ('j.r.', 2), ('away', 2), ('throughout', 2), ('recommended', 2), ('old', 2), ('subaru', 2), ('crew', 2), ('jeep', 2), ('ive', 2), ('garys', 2), ('seems', 2), ('top', 2), ('harness', 2), ('simple', 2), ('years', 2), ('local', 2), ('now', 2), ('courtesy', 2), ('im', 2), ('awesome', 2), ('custom', 2), ('times', 2), ('else', 2), ('bad', 2), ('highly', 2), (\"'m\", 2), ('area', 2), ('despite', 2), ('vegan', 2), ('extra', 2), ('half', 2), ('taken', 2), ('staff', 2), ('accommodating', 2), ('rock', 2), ('live', 2), ('washington', 2), ('driving', 2), ('portland', 2), ('ran', 2), ('notice', 2), ('strange', 2), ('city', 2), ('spare', 2), ('immediately', 2), ('once', 2), ('something', 2), ('provided', 2), (';', 2), ('alignment', 2), ('pressured', 2), ('being', 2), ('automotive', 2), ('flat', 2), ('same-day', 2), ('waiting', 2), ('keys', 2), ('drop', 2), ('hundred', 2), ('knowing', 2), ('state', 2), ('working', 2), ('filled', 2), ('loose', 2), ('attach', 2), ('found', 2), ('compartment', 2), ('take', 2), ('elsewhere', 2), ('quarts', 2), ('quart', 2), ('low', 2), ('ended', 2), ('ok', 2), ('twice', 2), ('mistake', 2), ('rare', 2), ('still', 2), ('1979', 2), ('datsun', 2), ('350', 2), ('main', 2), ('seal', 2), ('bring', 2), ('reliable', 2), ('estimates', 2), ('often', 2), ('perform', 2), ('lock', 2), ('apart', 2), ('high', 2), ('saying', 2), ('attached', 2), ('shock', 2), ('absorber', 2), ('thingy', 2), ('inside', 2), ('theyll', 2), ('quick', 2), ('dont', 2), ('talk', 2), ('plan', 2), ('100', 2), ('read', 2), ('crank', 2), ('sensor', 2), ('pts', 2), ('wondering', 2), ('nearly', 2), ('charging', 2), ('200', 2), ('firmware', 2), ('treated', 2), ('tried', 2), ('again', 2), ('bolts', 2), ('simply', 2), ('competent', 2), ('such', 2), ('explaining', 2), ('kept', 2), ('turnaround', 2), ('rotation', 2), ('incredibly', 2), ('discovered', 2), ('nuts', 2), ('where', 2), ('comfortable', 2), ('looking', 2), ('pump', 2), ('knowlegable', 1), ('curious', 1), ('pretty', 1), ('truck', 1), ('cuter', 1), ('naturally', 1), ('skeptical', 1), ('looked', 1), ('menagerie', 1), ('dealers', 1), ('smalls', 1), ('evaporation', 1), ('emissions', 1), ('control', 1), ('either', 1), ('soaked', 1), ('gas', 1), ('bigger', 1), ('fish', 1), ('fry', 1), ('shortly', 1), ('registered', 1), ('research', 1), ('swear', 1), ('tested', 1), ('hundreds', 1), ('triple', 1), ('moving', 1), ('project', 1), ('suddenly', 1), ('solved', 1), ('additionally', 1), ('suspected', 1), ('ball-joints', 1), ('tells', 1), ('same', 1), ('sent', 1), ('nebulous', 1), ('instructions', 1), ('tongue', 1), ('vapor', 1), ('go-ahead', 1), ('expensive', 1), ('joint', 1), ('dirt', 1), ('cheap', 1), ('mind', 1), ('boggling', 1), ('truth', 1), ('cycle', 1), ('completes', 1), ('tell', 1), ('crossed', 1), ('fingers', 1), ('deq', 1), ('following', 1), ('passed', 1), ('flying', 1), ('colors', 1), ('evap', 1), ('completed', 1), ('fixed', 1), ('squeak', 1), ('gone', 1), ('nervous', 1), ('nobody', 1), ('nail', 1), ('dialed', 1), ('24', 1), ('pleasure', 1), ('fixing', 1), ('saw', 1), ('pulled', 1), ('inspected', 1), ('runs', 1), ('checks', 1), ('codes', 1), ('performs', 1), ('tests', 1), ('under', 1), ('hood', 1), ('office', 1), ('review', 1), ('approval', 1), ('details', 1), ('procedure', 1), ('resolve', 1), ('frame', 1), ('lived', 1), ('side', 1), ('reassured', 1), ('everything', 1), ('expediently', 1), ('exceptional', 1), ('runaround', 1), ('genuine', 1), ('shine', 1), ('nice', 1), ('reccomend', 1), ('.jake', 1), ('oldsmobile', 1), ('omega', 1), ('afterward', 1), ('hesitation', 1), ('feeling', 1), ('shall', 1), ('wife', 1), ('wanted', 1), ('keep', 1), ('updated', 1), ('amazing', 1), ('kevin', 1), ('changed', 1), ('friday', 1), ('gotten', 1), ('life', 1), ('expectations', 1), ('far', 1), ('use', 1), ('skilled', 1), ('seem', 1), ('rewire', 1), ('mouse', 1), ('decided', 1), ('rebuild', 1), ('lift', 1), ('kit', 1), ('range', 1), ('skills', 1), ('vehicles', 1), ('moved', 1), ('thinking', 1), ('constantly', 1), ('up-sold', 1), ('didnt', 1), ('referred', 1), ('many', 1), ('friends', 1), ('regulars', 1), ('oh', 1), ('nicest', 1), ('shuttles', 1), ('played', 1), ('finding', 1), ('driver', 1), ('warehouse', 1), ('spot', 1), ('compared', 1), ('les', 1), ('schwab', 1), ('10', 1), ('super', 1), ('seen', 1), ('choose', 1), ('somewhere', 1), ('match', 1), ('zero', 1), ('fan', 1), ('understand', 1), ('industrial', 1), ('gives', 1), ('points', 1), ('book', 1), ('continued', 1), ('earn', 1), ('friendliness', 1), ('bought', 1), ('punctures', 1), ('recently', 1), ('developed', 1), ('crack', 1), ('mounted', 1), ('balanced', 1), ('above', 1), ('especially', 1), ('hesitate', 1), ('san', 1), ('juan', 1), ('islands', 1), ('coast', 1), ('near', 1), ('canada', 1), ('interstate', 1), ('5', 1), ('traffic', 1), ('pot', 1), ('hole', 1), ('lane', 1), ('swerve', 1), ('deep', 1), ('soon', 1), ('heard', 1), ('awful', 1), ('noise', 1), ('low-air-in-tire', 1), ('further', 1), ('off-ramp', 1), ('freeway', 1), ('praying', 1), ('assessed', 1), ('damage', 1), ('rims', 1), ('delivery', 1), ('selected', 1), ('reservation', 1), ('night', 1), ('workers', 1), ('thoughtful', 1), ('efficient', 1), ('thankful', 1), ('extras', 1), ('blessed', 1), ('prayers', 1), ('deal', 1), ('lots', 1), ('--', 1), ('besides', 1), ('taxi', 1), ('amazed', 1), ('expecting', 1), ('larger', 1), ('bill', 1), ('god', 1), ('bless', 1), ('diagnosed', 1), ('quickly', 1), ('house', 1), ('expected', 1), ('fantastic', 1), ('affordable', 1), ('people', 1), ('brand', 1), ('given', 1), ('options', 1), ('spending', 1), ('informed', 1), ('truly', 1), ('bringing', 1), ('pretend', 1), ('mysterious', 1), ('inner', 1), ('workings', 1), ('fact', 1), ('knows', 1), ('complete', 1), ('disappointment', 1), ('should', 1), ('thus', 1), ('woke', 1), ('set', 1), ('15', 1), ('lobby', 1), ('handed', 1), ('mean', 1), ('stood', 1), ('dumbly', 1), ('stammered', 1), ('s-so', 1), ('mentally', 1), ('prepared', 1), ('replacement', 1), ('thanked', 1), ('happily', 1), ('celebratory', 1), ('taco', 1), ('bell', 1), ('almost', 1), ('wish', 1), ('least', 1), ('rest', 1), ('corner', 1), ('gentlemen', 1), ('stranded', 1), ('friend', 1), ('mines', 1), ('move', 1), ('rescuing', 1), ('mount', 1), ('forgot', 1), ('your', 1), ('prepurchased', 1), ('telling', 1), ('somehow', 1), ('putting', 1), ('admitting', 1), ('reading', 1), ('dip', 1), ('stick', 1), ('average', 1), ('themselves', 1), ('finds', 1), ('hard', 1), ('worth', 1), ('throw', 1), ('agreed', 1), ('planned', 1), ('j.r', 1), ('stay', 1), ('actually', 1), ('leaking', 1), ('look', 1), ('fraud', 1), ('pure', 1), ('during', 1), ('troubles', 1), ('unfortunately', 1), ('second', 1), ('appreciate', 1), ('honesty', 1), ('accurate', 1), ('quite', 1), ('include', 1), ('gaskets', 1), ('axle', 1), ('replacements', 1), ('outback', 1), ('dedicated', 1), (\"'d\", 1), ('big', 1), ('yes', 1), ('partial', 1), ('honda', 1), ('360', 1), ('160', 1), ('blockage', 1), ('06-10-2014', 1), (\"'97\", 1), ('toyota', 1), ('camry', 1), ('issues', 1), ('vale', 1), ('seals', 1), ('tighten', 1), ('squealing', 1), ('belts', 1), ('repair/replace', 1), ('filter', 1), ('cross', 1), ('threaded', 1), ('remove', 1), ('temperature', 1), ('qts', 1), ('admitted', 1), ('seeing', 1), ('level', 1), ('excavated', 1), ('him', 1), ('benefit', 1), ('8-18-2014', 1), ('mounting', 1), ('bracket', 1), ('smaller', 1), ('missing', 1), ('calling', 1), ('defended', 1), ('pointed', 1), ('wire', 1), ('via', 1), ('guessed', 1), ('retighted', 1), ('loosened', 1), ('plug', 1), ('conclusion', 1), ('trust', 1), ('management', 1), ('recheck', 1), ('guarantee', 1), ('point', 1), ('forgetting', 1), ('although', 1), ('insignificant', 1), ('sister', 1), ('rely', 1), ('swindle', 1), ('young', 1), ('woman', 1), ('beat', 1), ('making', 1), ('pt', 1), ('cruise', 1), ('rough', 1), ('error', 1), ('documented', 1), ('20', 1), ('reader', 1), ('dash', 1), ('0', 1), ('status', 1), ('refused', 1), ('attempt', 1), ('verify', 1), ('correct', 1), ('instructed', 1), ('retrieved', 1), ('rudely', 1), ('guess', 1), ('ransom', 1), ('attempts', 1), ('settle', 1), ('results', 1), ('hanging', 1), ('independent', 1), ('hardly', 1), ('software', 1), ('update', 1), ('reviewer', 1), ('below', 1), ('previously', 1), ('obvious', 1), ('mechanical', 1), ('described', 1), ('detecting', 1), ('pattern', 1), ('pulling', 1), ('speedy', 1), ('satisfactory', 1), ('costly', 1), ('lesson', 1), ('learned', 1), ('extremely', 1), ('rude', 1), ('missed', 1), ('replacing', 1), ('onto', 1), ('miles', 1), ('placed', 1), ('qualified', 1), ('diligent', 1), ('talking', 1), ('owners', 1), ('reluctant', 1), ('company', 1), ('refusal', 1), ('admit', 1), ('exactly', 1), ('outside', 1), ('only', 1), ('wonder', 1), ('positive', 1), ('experiences', 1), ('schedule', 1), ('maintained', 1), ('excellent', 1), ('communication', 1), ('process', 1), ('older', 1), ('mileage', 1), ('recommending', 1), ('scope', 1), ('diagnosing', 1), ('electrical', 1), ('glad', 1), ('future', 1), ('continental', 1), ('terraincontact', 1), ('forester', 1), ('last', 1), ('rotating', 1), ('full-size', 1), ('wheel', 1), ('caring', 1), ('wheels', 1), ('unsafely', 1), ('three', 1), ('lug', 1), ('cross-threaded', 1), ('verbalized', 1), ('well-being', 1), ('consideration', 1), ('travel', 1), ('requested', 1), ('swiftly', 1), ('affected', 1), ('studs', 1), ('printed', 1), ('info', 1), ('closest', 1), ('continue', 1), ('rear', 1), ('wiper', 1), ('blade', 1), ('apologizing', 1), ('inconvenience', 1), ('liked', 1), ('wifi', 1), ('employment', 1), ('female', 1), ('s', 1), ('environment', 1), ('asking', 1), ('verbalizing', 1), ('ideas/needs/concerns', 1), ('quotes', 1), ('regarding', 1), ('girl', 1), ('disadvantage', 1), ('places', 1), ('lighting', 1), ('finally', 1), ('figure', 1), ('discount', 1), ('close', 1), ('uber', 1), ('overall', 1), ('pleasant', 1), ('crazy', 1), ('sounds', 1), ('love', 1), ('guy', 1), ('genuinely', 1), ('cares', 1), ('customers', 1), ('afterwards', 1), ('recommendations', 1), ('services', 1), ('urgent', 1), ('ones', 1), ('financial', 1), ('impact', 1), ('might', 1), ('mid', 1), ('nineties', 1), ('ranger', 1), ('system', 1), ('filler', 1), ('neck', 1), ('hose', 1), ('stopped', 1), ('diagnose', 1), ('solve', 1), ('previous', 1), ('refund', 1), ('specifically', 1), ('focused', 1), ('solving', 1), ('actual', 1), ('instead', 1), ('selling', 1), ('boot', 1)]\n"
          ]
        }
      ]
    },
    {
      "cell_type": "code",
      "metadata": {
        "colab": {
          "base_uri": "https://localhost:8080/"
        },
        "id": "YAAlKVeojySx",
        "outputId": "d41f13b1-0d08-4731-ae89-e7ae8cc810bc"
      },
      "source": [
        "stop_words_list = stopwords.words('english')\n",
        "stop_words_list.append('\\'s')\n",
        "stop_words_list.append('n\\'t')\n",
        "print(stop_words_list)"
      ],
      "execution_count": 187,
      "outputs": [
        {
          "output_type": "stream",
          "name": "stdout",
          "text": [
            "['i', 'me', 'my', 'myself', 'we', 'our', 'ours', 'ourselves', 'you', \"you're\", \"you've\", \"you'll\", \"you'd\", 'your', 'yours', 'yourself', 'yourselves', 'he', 'him', 'his', 'himself', 'she', \"she's\", 'her', 'hers', 'herself', 'it', \"it's\", 'its', 'itself', 'they', 'them', 'their', 'theirs', 'themselves', 'what', 'which', 'who', 'whom', 'this', 'that', \"that'll\", 'these', 'those', 'am', 'is', 'are', 'was', 'were', 'be', 'been', 'being', 'have', 'has', 'had', 'having', 'do', 'does', 'did', 'doing', 'a', 'an', 'the', 'and', 'but', 'if', 'or', 'because', 'as', 'until', 'while', 'of', 'at', 'by', 'for', 'with', 'about', 'against', 'between', 'into', 'through', 'during', 'before', 'after', 'above', 'below', 'to', 'from', 'up', 'down', 'in', 'out', 'on', 'off', 'over', 'under', 'again', 'further', 'then', 'once', 'here', 'there', 'when', 'where', 'why', 'how', 'all', 'any', 'both', 'each', 'few', 'more', 'most', 'other', 'some', 'such', 'no', 'nor', 'not', 'only', 'own', 'same', 'so', 'than', 'too', 'very', 's', 't', 'can', 'will', 'just', 'don', \"don't\", 'should', \"should've\", 'now', 'd', 'll', 'm', 'o', 're', 've', 'y', 'ain', 'aren', \"aren't\", 'couldn', \"couldn't\", 'didn', \"didn't\", 'doesn', \"doesn't\", 'hadn', \"hadn't\", 'hasn', \"hasn't\", 'haven', \"haven't\", 'isn', \"isn't\", 'ma', 'mightn', \"mightn't\", 'mustn', \"mustn't\", 'needn', \"needn't\", 'shan', \"shan't\", 'shouldn', \"shouldn't\", 'wasn', \"wasn't\", 'weren', \"weren't\", 'won', \"won't\", 'wouldn', \"wouldn't\", \"'s\", \"n't\"]\n"
          ]
        }
      ]
    },
    {
      "cell_type": "code",
      "metadata": {
        "id": "ttFR0QKbkO71"
      },
      "source": [
        "exclude_stopwords_freq = []\n",
        "for (key, value) in ordered_freq:\n",
        "    if (key not in stop_words_list) and (key not in string.punctuation):\n",
        "        exclude_stopwords_freq.append((key, value))"
      ],
      "execution_count": 188,
      "outputs": []
    },
    {
      "cell_type": "code",
      "metadata": {
        "colab": {
          "base_uri": "https://localhost:8080/"
        },
        "id": "nBpAK-7-la0a",
        "outputId": "126d5a9e-2aca-4c12-8564-a118e26c123b"
      },
      "source": [
        "print(exclude_stopwords_freq)"
      ],
      "execution_count": 189,
      "outputs": [
        {
          "output_type": "stream",
          "name": "stdout",
          "text": [
            "[('gary', 46), ('car', 44), ('back', 25), ('auto', 25), ('engine', 22), ('care', 18), ('work', 17), ('shop', 16), ('even', 14), ('service', 14), ('took', 13), ('go', 12), ('one', 12), ('repair', 12), ('guys', 11), ('``', 11), (\"''\", 11), ('jeff', 11), ('check', 10), ('valve', 10), ('charge', 10), ('get', 10), ('would', 10), ('done', 9), ('always', 9), ('mechanic', 9), ('bolt', 9), ('place', 8), ('tire', 8), ('mechanics', 8), ('light', 8), ('without', 8), ('said', 8), ('know', 8), ('first', 8), ('time', 8), ('right', 8), ('like', 8), ('gave', 7), ('less', 7), ('job', 7), ('vehicle', 7), ('never', 7), ('problems', 7), ('called', 7), ('business', 7), ('tires', 7), ('replace', 7), ('much', 7), ('great', 6), ('fast', 6), ('came', 6), ('issue', 6), ('things', 6), ('price', 6), ('part', 6), ('little', 6), ('needed', 6), ('problem', 6), ('dan', 6), ('friendly', 6), ('cost', 6), ('able', 6), ('2', 6), ('also', 6), (\"'re\", 6), ('new', 6), ('next', 6), ('brought', 6), ('felt', 6), ('transmission', 6), ('fluid', 6), ('son', 6), ('us', 6), ('got', 5), ('ride', 5), ('several', 5), ('worked', 5), ('thanks', 5), ('day', 5), (\"'ve\", 5), ('hours', 5), ('sure', 5), ('say', 5), ('anything', 5), ('could', 5), ('home', 5), ('honest', 5), ('parts', 5), ('taking', 5), ('needs', 5), ('went', 5), ('another', 5), ('helpful', 5), ('feel', 5), ('find', 5), ('help', 5), ('timing', 5), ('professionals', 5), ('computer', 5), ('free', 5), ('prices', 4), ('ca', 4), ('ford', 4), ('shops', 4), ('ago', 4), ('told', 4), ('well', 4), ('long', 4), ('since', 4), ('enough', 4), ('kind', 4), ('thank', 4), ('team', 4), ('getting', 4), ('going', 4), ('couple', 4), ('pick', 4), ('professional', 4), ('quoted', 4), ('repairs', 4), ('thought', 4), ('unnecessary', 4), ('fair', 4), ('recommend', 4), ('oil', 4), ('better', 4), ('change', 4), ('call', 4), ('really', 4), ('cars', 4), ('customer', 4), ('drove', 4), ('make', 4), ('someone', 4), ('pay', 4), ('belt', 4), ('door', 4), ('fuel', 4), ('days', 4), ('noticed', 4), ('cover', 4), ('running', 4), ('sloppy', 4), ('code', 4), ('want', 4), ('reasonable', 3), ('dropped', 3), ('definitely', 3), ('year', 3), ('canister', 3), ('purge', 3), ('lot', 3), ('dealer', 3), ('doubt', 3), ('easy', 3), ('ordered', 3), ('week', 3), ('put', 3), ('front', 3), ('end', 3), ('ball', 3), ('come', 3), ('ever', 3), ('need', 3), ('best', 3), ('...', 3), ('asked', 3), ('pushed', 3), ('appreciated', 3), ('labor', 3), ('experience', 3), ('picked', 3), ('beyond', 3), ('quality', 3), ('see', 3), ('morning', 3), ('everyone', 3), ('original', 3), ('way', 3), ('manager', 3), ('cool', 3), ('rim', 3), ('installed', 3), ('plenty', 3), ('two', 3), ('hotel', 3), ('spend', 3), ('try', 3), ('sell', 3), ('trying', 3), ('upon', 3), ('appointment', 3), ('good', 3), ('nothing', 3), ('think', 3), ('wrong', 3), ('around', 3), ('left', 3), ('fortunately', 3), ('laying', 3), ('money', 3), ('trouble', 3), ('owner', 3), ('fix', 3), ('shuttle', 3), ('4', 3), ('qt', 3), ('fill', 3), ('properly', 3), ('connecting', 3), ('later', 3), ('may', 3), ('upgrade', 3), ('overcharge', 3), ('helped', 3), ('stuff', 2), ('impressed', 2), ('including', 2), ('five', 2), ('different', 2), ('charcoal', 2), ('longer', 2), ('6', 2), ('months', 2), ('ready', 2), ('install', 2), ('showed', 2), ('damaged', 2), ('hold', 2), ('squeaking', 2), ('1', 2), ('every', 2), ('goes', 2), ('thing', 2), ('joints', 2), ('fine', 2), ('bit', 2), ('lower', 2), ('safety', 2), ('concern', 2), ('noon', 2), ('drive', 2), ('knew', 2), ('plus', 2), ('whole', 2), ('parking', 2), ('walked', 2), ('ask', 2), ('within', 2), ('minutes', 2), ('tech', 2), ('walks', 2), ('technician', 2), ('short', 2), ('estimate', 2), ('explain', 2), ('offered', 2), ('give', 2), ('though', 2), ('town', 2), ('let', 2), ('deliver', 2), ('trustworthy', 2), ('makes', 2), ('knowledgeable', 2), ('repaired', 2), ('questions', 2), ('answered', 2), ('ripped', 2), ('return', 2), ('j.r.', 2), ('away', 2), ('throughout', 2), ('recommended', 2), ('old', 2), ('subaru', 2), ('crew', 2), ('jeep', 2), ('ive', 2), ('garys', 2), ('seems', 2), ('top', 2), ('harness', 2), ('simple', 2), ('years', 2), ('local', 2), ('courtesy', 2), ('im', 2), ('awesome', 2), ('custom', 2), ('times', 2), ('else', 2), ('bad', 2), ('highly', 2), (\"'m\", 2), ('area', 2), ('despite', 2), ('vegan', 2), ('extra', 2), ('half', 2), ('taken', 2), ('staff', 2), ('accommodating', 2), ('rock', 2), ('live', 2), ('washington', 2), ('driving', 2), ('portland', 2), ('ran', 2), ('notice', 2), ('strange', 2), ('city', 2), ('spare', 2), ('immediately', 2), ('something', 2), ('provided', 2), ('alignment', 2), ('pressured', 2), ('automotive', 2), ('flat', 2), ('same-day', 2), ('waiting', 2), ('keys', 2), ('drop', 2), ('hundred', 2), ('knowing', 2), ('state', 2), ('working', 2), ('filled', 2), ('loose', 2), ('attach', 2), ('found', 2), ('compartment', 2), ('take', 2), ('elsewhere', 2), ('quarts', 2), ('quart', 2), ('low', 2), ('ended', 2), ('ok', 2), ('twice', 2), ('mistake', 2), ('rare', 2), ('still', 2), ('1979', 2), ('datsun', 2), ('350', 2), ('main', 2), ('seal', 2), ('bring', 2), ('reliable', 2), ('estimates', 2), ('often', 2), ('perform', 2), ('lock', 2), ('apart', 2), ('high', 2), ('saying', 2), ('attached', 2), ('shock', 2), ('absorber', 2), ('thingy', 2), ('inside', 2), ('theyll', 2), ('quick', 2), ('dont', 2), ('talk', 2), ('plan', 2), ('100', 2), ('read', 2), ('crank', 2), ('sensor', 2), ('pts', 2), ('wondering', 2), ('nearly', 2), ('charging', 2), ('200', 2), ('firmware', 2), ('treated', 2), ('tried', 2), ('bolts', 2), ('simply', 2), ('competent', 2), ('explaining', 2), ('kept', 2), ('turnaround', 2), ('rotation', 2), ('incredibly', 2), ('discovered', 2), ('nuts', 2), ('comfortable', 2), ('looking', 2), ('pump', 2), ('knowlegable', 1), ('curious', 1), ('pretty', 1), ('truck', 1), ('cuter', 1), ('naturally', 1), ('skeptical', 1), ('looked', 1), ('menagerie', 1), ('dealers', 1), ('smalls', 1), ('evaporation', 1), ('emissions', 1), ('control', 1), ('either', 1), ('soaked', 1), ('gas', 1), ('bigger', 1), ('fish', 1), ('fry', 1), ('shortly', 1), ('registered', 1), ('research', 1), ('swear', 1), ('tested', 1), ('hundreds', 1), ('triple', 1), ('moving', 1), ('project', 1), ('suddenly', 1), ('solved', 1), ('additionally', 1), ('suspected', 1), ('ball-joints', 1), ('tells', 1), ('sent', 1), ('nebulous', 1), ('instructions', 1), ('tongue', 1), ('vapor', 1), ('go-ahead', 1), ('expensive', 1), ('joint', 1), ('dirt', 1), ('cheap', 1), ('mind', 1), ('boggling', 1), ('truth', 1), ('cycle', 1), ('completes', 1), ('tell', 1), ('crossed', 1), ('fingers', 1), ('deq', 1), ('following', 1), ('passed', 1), ('flying', 1), ('colors', 1), ('evap', 1), ('completed', 1), ('fixed', 1), ('squeak', 1), ('gone', 1), ('nervous', 1), ('nobody', 1), ('nail', 1), ('dialed', 1), ('24', 1), ('pleasure', 1), ('fixing', 1), ('saw', 1), ('pulled', 1), ('inspected', 1), ('runs', 1), ('checks', 1), ('codes', 1), ('performs', 1), ('tests', 1), ('hood', 1), ('office', 1), ('review', 1), ('approval', 1), ('details', 1), ('procedure', 1), ('resolve', 1), ('frame', 1), ('lived', 1), ('side', 1), ('reassured', 1), ('everything', 1), ('expediently', 1), ('exceptional', 1), ('runaround', 1), ('genuine', 1), ('shine', 1), ('nice', 1), ('reccomend', 1), ('.jake', 1), ('oldsmobile', 1), ('omega', 1), ('afterward', 1), ('hesitation', 1), ('feeling', 1), ('shall', 1), ('wife', 1), ('wanted', 1), ('keep', 1), ('updated', 1), ('amazing', 1), ('kevin', 1), ('changed', 1), ('friday', 1), ('gotten', 1), ('life', 1), ('expectations', 1), ('far', 1), ('use', 1), ('skilled', 1), ('seem', 1), ('rewire', 1), ('mouse', 1), ('decided', 1), ('rebuild', 1), ('lift', 1), ('kit', 1), ('range', 1), ('skills', 1), ('vehicles', 1), ('moved', 1), ('thinking', 1), ('constantly', 1), ('up-sold', 1), ('didnt', 1), ('referred', 1), ('many', 1), ('friends', 1), ('regulars', 1), ('oh', 1), ('nicest', 1), ('shuttles', 1), ('played', 1), ('finding', 1), ('driver', 1), ('warehouse', 1), ('spot', 1), ('compared', 1), ('les', 1), ('schwab', 1), ('10', 1), ('super', 1), ('seen', 1), ('choose', 1), ('somewhere', 1), ('match', 1), ('zero', 1), ('fan', 1), ('understand', 1), ('industrial', 1), ('gives', 1), ('points', 1), ('book', 1), ('continued', 1), ('earn', 1), ('friendliness', 1), ('bought', 1), ('punctures', 1), ('recently', 1), ('developed', 1), ('crack', 1), ('mounted', 1), ('balanced', 1), ('especially', 1), ('hesitate', 1), ('san', 1), ('juan', 1), ('islands', 1), ('coast', 1), ('near', 1), ('canada', 1), ('interstate', 1), ('5', 1), ('traffic', 1), ('pot', 1), ('hole', 1), ('lane', 1), ('swerve', 1), ('deep', 1), ('soon', 1), ('heard', 1), ('awful', 1), ('noise', 1), ('low-air-in-tire', 1), ('off-ramp', 1), ('freeway', 1), ('praying', 1), ('assessed', 1), ('damage', 1), ('rims', 1), ('delivery', 1), ('selected', 1), ('reservation', 1), ('night', 1), ('workers', 1), ('thoughtful', 1), ('efficient', 1), ('thankful', 1), ('extras', 1), ('blessed', 1), ('prayers', 1), ('deal', 1), ('lots', 1), ('--', 1), ('besides', 1), ('taxi', 1), ('amazed', 1), ('expecting', 1), ('larger', 1), ('bill', 1), ('god', 1), ('bless', 1), ('diagnosed', 1), ('quickly', 1), ('house', 1), ('expected', 1), ('fantastic', 1), ('affordable', 1), ('people', 1), ('brand', 1), ('given', 1), ('options', 1), ('spending', 1), ('informed', 1), ('truly', 1), ('bringing', 1), ('pretend', 1), ('mysterious', 1), ('inner', 1), ('workings', 1), ('fact', 1), ('knows', 1), ('complete', 1), ('disappointment', 1), ('thus', 1), ('woke', 1), ('set', 1), ('15', 1), ('lobby', 1), ('handed', 1), ('mean', 1), ('stood', 1), ('dumbly', 1), ('stammered', 1), ('s-so', 1), ('mentally', 1), ('prepared', 1), ('replacement', 1), ('thanked', 1), ('happily', 1), ('celebratory', 1), ('taco', 1), ('bell', 1), ('almost', 1), ('wish', 1), ('least', 1), ('rest', 1), ('corner', 1), ('gentlemen', 1), ('stranded', 1), ('friend', 1), ('mines', 1), ('move', 1), ('rescuing', 1), ('mount', 1), ('forgot', 1), ('prepurchased', 1), ('telling', 1), ('somehow', 1), ('putting', 1), ('admitting', 1), ('reading', 1), ('dip', 1), ('stick', 1), ('average', 1), ('finds', 1), ('hard', 1), ('worth', 1), ('throw', 1), ('agreed', 1), ('planned', 1), ('j.r', 1), ('stay', 1), ('actually', 1), ('leaking', 1), ('look', 1), ('fraud', 1), ('pure', 1), ('troubles', 1), ('unfortunately', 1), ('second', 1), ('appreciate', 1), ('honesty', 1), ('accurate', 1), ('quite', 1), ('include', 1), ('gaskets', 1), ('axle', 1), ('replacements', 1), ('outback', 1), ('dedicated', 1), (\"'d\", 1), ('big', 1), ('yes', 1), ('partial', 1), ('honda', 1), ('360', 1), ('160', 1), ('blockage', 1), ('06-10-2014', 1), (\"'97\", 1), ('toyota', 1), ('camry', 1), ('issues', 1), ('vale', 1), ('seals', 1), ('tighten', 1), ('squealing', 1), ('belts', 1), ('repair/replace', 1), ('filter', 1), ('cross', 1), ('threaded', 1), ('remove', 1), ('temperature', 1), ('qts', 1), ('admitted', 1), ('seeing', 1), ('level', 1), ('excavated', 1), ('benefit', 1), ('8-18-2014', 1), ('mounting', 1), ('bracket', 1), ('smaller', 1), ('missing', 1), ('calling', 1), ('defended', 1), ('pointed', 1), ('wire', 1), ('via', 1), ('guessed', 1), ('retighted', 1), ('loosened', 1), ('plug', 1), ('conclusion', 1), ('trust', 1), ('management', 1), ('recheck', 1), ('guarantee', 1), ('point', 1), ('forgetting', 1), ('although', 1), ('insignificant', 1), ('sister', 1), ('rely', 1), ('swindle', 1), ('young', 1), ('woman', 1), ('beat', 1), ('making', 1), ('pt', 1), ('cruise', 1), ('rough', 1), ('error', 1), ('documented', 1), ('20', 1), ('reader', 1), ('dash', 1), ('0', 1), ('status', 1), ('refused', 1), ('attempt', 1), ('verify', 1), ('correct', 1), ('instructed', 1), ('retrieved', 1), ('rudely', 1), ('guess', 1), ('ransom', 1), ('attempts', 1), ('settle', 1), ('results', 1), ('hanging', 1), ('independent', 1), ('hardly', 1), ('software', 1), ('update', 1), ('reviewer', 1), ('previously', 1), ('obvious', 1), ('mechanical', 1), ('described', 1), ('detecting', 1), ('pattern', 1), ('pulling', 1), ('speedy', 1), ('satisfactory', 1), ('costly', 1), ('lesson', 1), ('learned', 1), ('extremely', 1), ('rude', 1), ('missed', 1), ('replacing', 1), ('onto', 1), ('miles', 1), ('placed', 1), ('qualified', 1), ('diligent', 1), ('talking', 1), ('owners', 1), ('reluctant', 1), ('company', 1), ('refusal', 1), ('admit', 1), ('exactly', 1), ('outside', 1), ('wonder', 1), ('positive', 1), ('experiences', 1), ('schedule', 1), ('maintained', 1), ('excellent', 1), ('communication', 1), ('process', 1), ('older', 1), ('mileage', 1), ('recommending', 1), ('scope', 1), ('diagnosing', 1), ('electrical', 1), ('glad', 1), ('future', 1), ('continental', 1), ('terraincontact', 1), ('forester', 1), ('last', 1), ('rotating', 1), ('full-size', 1), ('wheel', 1), ('caring', 1), ('wheels', 1), ('unsafely', 1), ('three', 1), ('lug', 1), ('cross-threaded', 1), ('verbalized', 1), ('well-being', 1), ('consideration', 1), ('travel', 1), ('requested', 1), ('swiftly', 1), ('affected', 1), ('studs', 1), ('printed', 1), ('info', 1), ('closest', 1), ('continue', 1), ('rear', 1), ('wiper', 1), ('blade', 1), ('apologizing', 1), ('inconvenience', 1), ('liked', 1), ('wifi', 1), ('employment', 1), ('female', 1), ('environment', 1), ('asking', 1), ('verbalizing', 1), ('ideas/needs/concerns', 1), ('quotes', 1), ('regarding', 1), ('girl', 1), ('disadvantage', 1), ('places', 1), ('lighting', 1), ('finally', 1), ('figure', 1), ('discount', 1), ('close', 1), ('uber', 1), ('overall', 1), ('pleasant', 1), ('crazy', 1), ('sounds', 1), ('love', 1), ('guy', 1), ('genuinely', 1), ('cares', 1), ('customers', 1), ('afterwards', 1), ('recommendations', 1), ('services', 1), ('urgent', 1), ('ones', 1), ('financial', 1), ('impact', 1), ('might', 1), ('mid', 1), ('nineties', 1), ('ranger', 1), ('system', 1), ('filler', 1), ('neck', 1), ('hose', 1), ('stopped', 1), ('diagnose', 1), ('solve', 1), ('previous', 1), ('refund', 1), ('specifically', 1), ('focused', 1), ('solving', 1), ('actual', 1), ('instead', 1), ('selling', 1), ('boot', 1)]\n"
          ]
        }
      ]
    },
    {
      "cell_type": "code",
      "metadata": {
        "id": "vYPk_7ytuAl7"
      },
      "source": [
        "def autolabel(rects): \n",
        "    for rect in rects:\n",
        "        height = rect.get_height()\n",
        "        plt.text(rect.get_x()+rect.get_width()/2., 1.03*height, \"%i\" % int(height))"
      ],
      "execution_count": 190,
      "outputs": []
    },
    {
      "cell_type": "code",
      "metadata": {
        "colab": {
          "base_uri": "https://localhost:8080/",
          "height": 312
        },
        "id": "QCBQWP8qpxIX",
        "outputId": "88dfb1ba-d544-4924-9f48-840585e6b189"
      },
      "source": [
        "\n",
        "x = []\n",
        "y = []\n",
        "\n",
        "for (key, value) in exclude_stopwords_freq[0:10]:\n",
        "    x.append(key)\n",
        "    y.append(value)\n",
        "#x =  exclude_stopwords_freq[0: 10][0]\n",
        "# y =  exclude_stopwords_freq[0: 10]\n",
        "print(y)\n",
        "\n",
        "autolabel(plt.bar(range(len(x)), y, color='c', align = 'center', tick_label=x) )\n",
        "plt.title('Word Frequency') \n",
        "plt.xlabel('Word') \n",
        "plt.ylabel('Frequency') \n",
        "plt.show()"
      ],
      "execution_count": 191,
      "outputs": [
        {
          "output_type": "stream",
          "name": "stdout",
          "text": [
            "[46, 44, 25, 25, 22, 18, 17, 16, 14, 14]\n"
          ]
        },
        {
          "output_type": "display_data",
          "data": {
            "image/png": "[encoded data removed]",
            "text/plain": [
              "<Figure size 432x288 with 1 Axes>"
            ]
          },
          "metadata": {
            "needs_background": "light"
          }
        }
      ]
    },
    {
      "cell_type": "markdown",
      "metadata": {
        "id": "vQObrxX67JTr"
      },
      "source": [
        "# Stemming\n"
      ]
    },
    {
      "cell_type": "code",
      "metadata": {
        "colab": {
          "base_uri": "https://localhost:8080/"
        },
        "id": "jtSBu_lL7K1S",
        "outputId": "787300f1-04a6-4632-aef4-e2407d0d8c27"
      },
      "source": [
        " # STEMMING\n",
        "from nltk.stem import PorterStemmer\n",
        "\n",
        "porter = PorterStemmer()\n",
        "\n",
        "stemming_word_list = [\"friend\", \"friendship\", \"friends\", \"friendships\",\"stabil\",\"destabilize\",\"misunderstanding\",\"railroad\",\"moonlight\",\"football\"]\n",
        "print(\"{0:20}{1:20}\".format(\"Word\",\"Stemmed variant\"))\n",
        "print()\n",
        "\n",
        "for word in stemming_word_list:\n",
        "      print(\"{0:20}{1:20}\".format(word,porter.stem(word)))"
      ],
      "execution_count": 198,
      "outputs": [
        {
          "output_type": "stream",
          "name": "stdout",
          "text": [
            "Word                Stemmed variant     \n",
            "\n",
            "friend              friend              \n",
            "friendship          friendship          \n",
            "friends             friend              \n",
            "friendships         friendship          \n",
            "stabil              stabil              \n",
            "destabilize         destabil            \n",
            "misunderstanding    misunderstand       \n",
            "railroad            railroad            \n",
            "moonlight           moonlight           \n",
            "football            footbal             \n"
          ]
        }
      ]
    },
    {
      "cell_type": "code",
      "metadata": {
        "id": "muy78uwz7Uq2"
      },
      "source": [
        "word_freq = defaultdict(int)\n",
        "for review in b1_tokens:\n",
        "    for token in review:\n",
        "        word_freq[token.lower()] += 1\n",
        "print(len(word_freq))\n",
        "print(word_freq)"
      ],
      "execution_count": null,
      "outputs": []
    },
    {
      "cell_type": "markdown",
      "metadata": {
        "id": "EF6u4tRS1-WJ"
      },
      "source": [
        "# POS Tagging"
      ]
    },
    {
      "cell_type": "code",
      "metadata": {
        "colab": {
          "base_uri": "https://localhost:8080/"
        },
        "id": "t4nK7Ryd2Ayp",
        "outputId": "c4cba8de-63ed-4f2b-8c49-928ba9a1ee49"
      },
      "source": [
        "s1 = b1_reviews[0]\n",
        "print(s1)"
      ],
      "execution_count": 192,
      "outputs": [
        {
          "output_type": "stream",
          "name": "stdout",
          "text": [
            "This place is great! Prices are very reasonable and the guys there are knowlegable and curious. They got the work done pretty fast and they even gave me a ride to my work when I dropped my truck off. I will definitely go here for cuter tire stuff.\n"
          ]
        }
      ]
    },
    {
      "cell_type": "code",
      "metadata": {
        "colab": {
          "base_uri": "https://localhost:8080/"
        },
        "id": "2aL8oT742QBZ",
        "outputId": "435cfee2-fdb6-4708-d321-827fc5f45092"
      },
      "source": [
        "from nltk.tag import pos_tag\n",
        "nltk.download('averaged_perceptron_tagger')"
      ],
      "execution_count": 193,
      "outputs": [
        {
          "output_type": "stream",
          "name": "stdout",
          "text": [
            "[nltk_data] Downloading package averaged_perceptron_tagger to\n",
            "[nltk_data]     /root/nltk_data...\n",
            "[nltk_data]   Unzipping taggers/averaged_perceptron_tagger.zip.\n"
          ]
        },
        {
          "output_type": "execute_result",
          "data": {
            "text/plain": [
              "True"
            ]
          },
          "metadata": {},
          "execution_count": 193
        }
      ]
    },
    {
      "cell_type": "code",
      "metadata": {
        "colab": {
          "base_uri": "https://localhost:8080/"
        },
        "id": "zUnOJXRn2tkZ",
        "outputId": "26bd2bce-8d6b-4cb6-f955-347ac12c5afd"
      },
      "source": [
        "  s1 = word_tokenize(s1)\n",
        "  print(s1)\n",
        "  s1 = nltk.pos_tag(s1)\n",
        "  print(s1)"
      ],
      "execution_count": 194,
      "outputs": [
        {
          "output_type": "stream",
          "name": "stdout",
          "text": [
            "['This', 'place', 'is', 'great', '!', 'Prices', 'are', 'very', 'reasonable', 'and', 'the', 'guys', 'there', 'are', 'knowlegable', 'and', 'curious', '.', 'They', 'got', 'the', 'work', 'done', 'pretty', 'fast', 'and', 'they', 'even', 'gave', 'me', 'a', 'ride', 'to', 'my', 'work', 'when', 'I', 'dropped', 'my', 'truck', 'off', '.', 'I', 'will', 'definitely', 'go', 'here', 'for', 'cuter', 'tire', 'stuff', '.']\n",
            "[('This', 'DT'), ('place', 'NN'), ('is', 'VBZ'), ('great', 'JJ'), ('!', '.'), ('Prices', 'NNS'), ('are', 'VBP'), ('very', 'RB'), ('reasonable', 'JJ'), ('and', 'CC'), ('the', 'DT'), ('guys', 'NNS'), ('there', 'EX'), ('are', 'VBP'), ('knowlegable', 'JJ'), ('and', 'CC'), ('curious', 'JJ'), ('.', '.'), ('They', 'PRP'), ('got', 'VBD'), ('the', 'DT'), ('work', 'NN'), ('done', 'VBN'), ('pretty', 'RB'), ('fast', 'JJ'), ('and', 'CC'), ('they', 'PRP'), ('even', 'RB'), ('gave', 'VBD'), ('me', 'PRP'), ('a', 'DT'), ('ride', 'NN'), ('to', 'TO'), ('my', 'PRP$'), ('work', 'NN'), ('when', 'WRB'), ('I', 'PRP'), ('dropped', 'VBD'), ('my', 'PRP$'), ('truck', 'NN'), ('off', 'IN'), ('.', '.'), ('I', 'PRP'), ('will', 'MD'), ('definitely', 'RB'), ('go', 'VB'), ('here', 'RB'), ('for', 'IN'), ('cuter', 'NN'), ('tire', 'NN'), ('stuff', 'NN'), ('.', '.')]\n"
          ]
        }
      ]
    },
    {
      "cell_type": "code",
      "metadata": {
        "colab": {
          "base_uri": "https://localhost:8080/"
        },
        "id": "Zxvudq2F4_Gm",
        "outputId": "80179ee4-ccd2-46ab-9f6b-80d4ea5da565"
      },
      "source": [
        "import spacy\n",
        "  \n",
        "# Load English tokenizer, tagger, \n",
        "# parser, NER and word vectors\n",
        "nlp = spacy.load(\"en_core_web_sm\")\n",
        "  \n",
        "# Process whole documents\n",
        "text = b1_reviews[0]\n",
        "  \n",
        "doc = nlp(text)\n",
        "  \n",
        "# Token and Tag\n",
        "for token in doc:\n",
        "  print(token, token.pos_)"
      ],
      "execution_count": 197,
      "outputs": [
        {
          "output_type": "stream",
          "name": "stdout",
          "text": [
            "This DET\n",
            "place NOUN\n",
            "is AUX\n",
            "great ADJ\n",
            "! PUNCT\n",
            "Prices NOUN\n",
            "are AUX\n",
            "very ADV\n",
            "reasonable ADJ\n",
            "and CCONJ\n",
            "the DET\n",
            "guys NOUN\n",
            "there PRON\n",
            "are AUX\n",
            "knowlegable ADJ\n",
            "and CCONJ\n",
            "curious ADJ\n",
            ". PUNCT\n",
            "They PRON\n",
            "got VERB\n",
            "the DET\n",
            "work NOUN\n",
            "done VERB\n",
            "pretty ADV\n",
            "fast ADV\n",
            "and CCONJ\n",
            "they PRON\n",
            "even ADV\n",
            "gave VERB\n",
            "me PRON\n",
            "a DET\n",
            "ride NOUN\n",
            "to ADP\n",
            "my DET\n",
            "work NOUN\n",
            "when ADV\n",
            "I PRON\n",
            "dropped VERB\n",
            "my DET\n",
            "truck NOUN\n",
            "off ADP\n",
            ". PUNCT\n",
            "I PRON\n",
            "will VERB\n",
            "definitely ADV\n",
            "go VERB\n",
            "here ADV\n",
            "for ADP\n",
            "cuter PROPN\n",
            "tire PROPN\n",
            "stuff NOUN\n",
            ". PUNCT\n"
          ]
        }
      ]
    }
  ]
}