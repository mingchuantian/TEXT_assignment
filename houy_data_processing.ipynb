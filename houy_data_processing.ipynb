{
  "nbformat": 4,
  "nbformat_minor": 0,
  "metadata": {
    "colab": {
      "name": "houy_data_processing.ipynb",
      "provenance": [],
      "machine_shape": "hm",
      "authorship_tag": "ABX9TyPXtQvXxeoJXC+AIVQeJ2/n",
      "include_colab_link": true
    },
    "kernelspec": {
      "name": "python3",
      "display_name": "Python 3"
    },
    "language_info": {
      "name": "python"
    }
  },
  "cells": [
    {
      "cell_type": "markdown",
      "metadata": {
        "id": "view-in-github",
        "colab_type": "text"
      },
      "source": [
        "<a href=\"https://colab.research.google.com/github/skywalker00001/TEXT_assignment/blob/main/houy_data_processing.ipynb\" target=\"_parent\"><img src=\"https://colab.research.google.com/assets/colab-badge.svg\" alt=\"Open In Colab\"/></a>"
      ]
    },
    {
      "cell_type": "code",
      "metadata": {
        "colab": {
          "base_uri": "https://localhost:8080/"
        },
        "id": "0bqDVFl3KQE5",
        "outputId": "bf32b633-5435-4fb2-f0df-1d3587dfa5d8"
      },
      "source": [
        "from google.colab import drive\n",
        "drive.mount('/content/drive')\n",
        "root = 'drive/MyDrive/TEXT_assignment/'"
      ],
      "execution_count": 1,
      "outputs": [
        {
          "output_type": "stream",
          "name": "stdout",
          "text": [
            "Mounted at /content/drive\n"
          ]
        }
      ]
    },
    {
      "cell_type": "code",
      "metadata": {
        "id": "0KXv12j9SKvq"
      },
      "source": [
        "import json\n",
        "import random\n",
        "from collections import defaultdict\n",
        "\n",
        "\n",
        "SEED = 567\n",
        "random.seed(SEED)"
      ],
      "execution_count": 45,
      "outputs": []
    },
    {
      "cell_type": "code",
      "metadata": {
        "colab": {
          "base_uri": "https://localhost:8080/"
        },
        "id": "RxCKHF3MLt8q",
        "outputId": "12366159-f5d1-4183-c0a8-a3864d5768a1"
      },
      "source": [
        "# Install the required packages for this lab\n",
        "\n",
        "\n",
        "!pip install nltk\n",
        "import nltk\n",
        "nltk.download('punkt')\n",
        "from nltk.corpus import stopwords\n",
        "from nltk import word_tokenize\n",
        "nltk.download('stopwords')\n",
        "from nltk.tag import pos_tag"
      ],
      "execution_count": 43,
      "outputs": [
        {
          "output_type": "stream",
          "name": "stdout",
          "text": [
            "Requirement already satisfied: nltk in /usr/local/lib/python3.7/dist-packages (3.2.5)\n",
            "Requirement already satisfied: six in /usr/local/lib/python3.7/dist-packages (from nltk) (1.15.0)\n",
            "[nltk_data] Downloading package punkt to /root/nltk_data...\n",
            "[nltk_data]   Package punkt is already up-to-date!\n",
            "[nltk_data] Downloading package stopwords to /root/nltk_data...\n",
            "[nltk_data]   Unzipping corpora/stopwords.zip.\n"
          ]
        }
      ]
    },
    {
      "cell_type": "code",
      "metadata": {
        "id": "UoO0ROYbZ-G5"
      },
      "source": [
        ""
      ],
      "execution_count": null,
      "outputs": []
    },
    {
      "cell_type": "code",
      "metadata": {
        "id": "_jNxqUpIOZ4y"
      },
      "source": [
        "business_id = []\n",
        "\n",
        "with open(root + 'yelp_academic_dataset_business.json', encoding='utf-8') as f:\n",
        "    for line in f:\n",
        "        line_contents = json.loads(line)\n",
        "        business_id.append(line_contents['business_id'])\n",
        "        # business_id.append(line_contents)\n",
        "        # id = line_contents['business_id']\n",
        "        # print(id)\n",
        "    f.close()"
      ],
      "execution_count": 30,
      "outputs": []
    },
    {
      "cell_type": "code",
      "metadata": {
        "colab": {
          "base_uri": "https://localhost:8080/"
        },
        "id": "K230MWibP4qK",
        "outputId": "fae3ede7-20b1-4389-d9bd-ae54d675e841"
      },
      "source": [
        "print(business_id[0])\n",
        "print(len(business_id))"
      ],
      "execution_count": 31,
      "outputs": [
        {
          "output_type": "stream",
          "name": "stdout",
          "text": [
            "6iYb2HFDywm3zjuRg0shjw\n",
            "160585\n"
          ]
        }
      ]
    },
    {
      "cell_type": "code",
      "metadata": {
        "colab": {
          "base_uri": "https://localhost:8080/"
        },
        "id": "bkts2VdTRvUk",
        "outputId": "b4499dfb-c2fb-4d3d-f294-a58e110ed4cd"
      },
      "source": [
        "random.seed(SEED)\n",
        "b1 = random.randint(0, len(business_id))\n",
        "b1_id = business_id[b1]\n",
        "print(b1)\n",
        "print(b1_id)"
      ],
      "execution_count": 39,
      "outputs": [
        {
          "output_type": "stream",
          "name": "stdout",
          "text": [
            "37289\n",
            "kuY4DVdueDJWzm28bFY1hA\n"
          ]
        }
      ]
    },
    {
      "cell_type": "code",
      "metadata": {
        "id": "I84MSfOAVeZ1"
      },
      "source": [
        "# b1 = xGXzsc-hzam-VArK6eTvtw"
      ],
      "execution_count": null,
      "outputs": []
    },
    {
      "cell_type": "code",
      "metadata": {
        "id": "wp98UQTuQCi5"
      },
      "source": [
        "b1_reviews = []\n",
        "\n",
        "with open(root + 'yelp_academic_dataset_review.json', encoding='utf-8') as f:\n",
        "    for line in f:\n",
        "        line_contents = json.loads(line)\n",
        "        if (line_contents['business_id'] == b1_id):\n",
        "            b1_reviews.append(line_contents['text'])\n",
        "    f.close()"
      ],
      "execution_count": 40,
      "outputs": []
    },
    {
      "cell_type": "code",
      "metadata": {
        "colab": {
          "base_uri": "https://localhost:8080/"
        },
        "id": "Oa0cLne1QiAJ",
        "outputId": "4e92d677-2638-4bd6-bc7c-800a7df6801f"
      },
      "source": [
        "print(len(b1_reviews))"
      ],
      "execution_count": 41,
      "outputs": [
        {
          "output_type": "stream",
          "name": "stdout",
          "text": [
            "119\n"
          ]
        }
      ]
    },
    {
      "cell_type": "code",
      "metadata": {
        "colab": {
          "base_uri": "https://localhost:8080/"
        },
        "id": "X8HPriLAQtsF",
        "outputId": "4ac0df68-55fc-486f-d9f5-43238d9eb4b9"
      },
      "source": [
        "print(b1_reviews[0])"
      ],
      "execution_count": 42,
      "outputs": [
        {
          "output_type": "stream",
          "name": "stdout",
          "text": [
            "They quoted $140.00 for a clogged disposal that needed to be cleaned from the basement and that's what I was charged. The plumber was on time, friendly, neat, polite and explained the process of his work. He also told us ways to avoid further clogs. I have already recommended them to family and will definitely call them in the future.\n"
          ]
        }
      ]
    },
    {
      "cell_type": "code",
      "metadata": {
        "colab": {
          "base_uri": "https://localhost:8080/"
        },
        "id": "4dv3XrrkZ_VP",
        "outputId": "da7d68ed-d053-4a4e-c7af-b6c874c89ae9"
      },
      "source": [
        "test1 = word_tokenize(b1_reviews[0])\n",
        "print(test1)"
      ],
      "execution_count": 44,
      "outputs": [
        {
          "output_type": "stream",
          "name": "stdout",
          "text": [
            "['They', 'quoted', '$', '140.00', 'for', 'a', 'clogged', 'disposal', 'that', 'needed', 'to', 'be', 'cleaned', 'from', 'the', 'basement', 'and', 'that', \"'s\", 'what', 'I', 'was', 'charged', '.', 'The', 'plumber', 'was', 'on', 'time', ',', 'friendly', ',', 'neat', ',', 'polite', 'and', 'explained', 'the', 'process', 'of', 'his', 'work', '.', 'He', 'also', 'told', 'us', 'ways', 'to', 'avoid', 'further', 'clogs', '.', 'I', 'have', 'already', 'recommended', 'them', 'to', 'family', 'and', 'will', 'definitely', 'call', 'them', 'in', 'the', 'future', '.']\n"
          ]
        }
      ]
    },
    {
      "cell_type": "code",
      "metadata": {
        "colab": {
          "base_uri": "https://localhost:8080/"
        },
        "id": "Pm2rNq7Qa8mZ",
        "outputId": "48d60dbc-e985-40ae-ab3d-6fd5e76f0f77"
      },
      "source": [
        "vocabulary = []\n",
        "for i in test1:\n",
        "    vocabulary.append(i)\n",
        "\n",
        "print(len(vocabulary))\n",
        "vocabulary = set(vocabulary)\n",
        "print(len(vocabulary))"
      ],
      "execution_count": 46,
      "outputs": [
        {
          "output_type": "stream",
          "name": "stdout",
          "text": [
            "69\n",
            "54\n"
          ]
        }
      ]
    },
    {
      "cell_type": "code",
      "metadata": {
        "colab": {
          "base_uri": "https://localhost:8080/"
        },
        "id": "AG1w4Ys5bYNj",
        "outputId": "506b38bc-87d7-45b1-8b4b-e6c070d84419"
      },
      "source": [
        "voca = defaultdict(int)\n",
        "for i in test1:\n",
        "    voca[i] += 1\n",
        "print(len(voca))"
      ],
      "execution_count": 47,
      "outputs": [
        {
          "output_type": "stream",
          "name": "stdout",
          "text": [
            "54\n"
          ]
        }
      ]
    },
    {
      "cell_type": "code",
      "metadata": {
        "colab": {
          "base_uri": "https://localhost:8080/"
        },
        "id": "3ZuoePGSbpuA",
        "outputId": "b5761272-2dfb-43c0-8191-8d07dc50acc7"
      },
      "source": [
        "print(voca)"
      ],
      "execution_count": 48,
      "outputs": [
        {
          "output_type": "stream",
          "name": "stdout",
          "text": [
            "defaultdict(<class 'int'>, {'They': 1, 'quoted': 1, '$': 1, '140.00': 1, 'for': 1, 'a': 1, 'clogged': 1, 'disposal': 1, 'that': 2, 'needed': 1, 'to': 3, 'be': 1, 'cleaned': 1, 'from': 1, 'the': 3, 'basement': 1, 'and': 3, \"'s\": 1, 'what': 1, 'I': 2, 'was': 2, 'charged': 1, '.': 4, 'The': 1, 'plumber': 1, 'on': 1, 'time': 1, ',': 3, 'friendly': 1, 'neat': 1, 'polite': 1, 'explained': 1, 'process': 1, 'of': 1, 'his': 1, 'work': 1, 'He': 1, 'also': 1, 'told': 1, 'us': 1, 'ways': 1, 'avoid': 1, 'further': 1, 'clogs': 1, 'have': 1, 'already': 1, 'recommended': 1, 'them': 2, 'family': 1, 'will': 1, 'definitely': 1, 'call': 1, 'in': 1, 'future': 1})\n"
          ]
        }
      ]
    },
    {
      "cell_type": "code",
      "metadata": {
        "id": "Tx5d1xMhb84i"
      },
      "source": [
        "vocabulary = []\n",
        "for \n",
        "for i in test1:\n",
        "    vocabulary.append(i)\n",
        "\n",
        "print(len(vocabulary))\n",
        "vocabulary = set(vocabulary)\n",
        "print(len(vocabulary))"
      ],
      "execution_count": null,
      "outputs": []
    }
  ]
}